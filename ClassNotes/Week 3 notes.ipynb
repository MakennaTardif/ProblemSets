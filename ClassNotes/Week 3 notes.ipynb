{
 "cells": [
  {
   "cell_type": "code",
   "execution_count": 1,
   "id": "f9267f11-ac19-446f-8ad9-7efd5403da7e",
   "metadata": {},
   "outputs": [
    {
     "name": "stdout",
     "output_type": "stream",
     "text": [
      "hello world\n"
     ]
    }
   ],
   "source": [
    "print('hello world') "
   ]
  },
  {
   "cell_type": "code",
   "execution_count": 2,
   "id": "a212c201-68bf-4a8d-86f5-939896d43777",
   "metadata": {},
   "outputs": [
    {
     "data": {
      "text/plain": [
       "2"
      ]
     },
     "execution_count": 2,
     "metadata": {},
     "output_type": "execute_result"
    }
   ],
   "source": [
    "1 + 1"
   ]
  },
  {
   "cell_type": "code",
   "execution_count": null,
   "id": "72e636f6-f73f-4d30-a4e7-26bae1129800",
   "metadata": {},
   "outputs": [],
   "source": [
    "## 1 + 1\n",
    "\n",
    "this is markdown text"
   ]
  },
  {
   "cell_type": "code",
   "execution_count": 3,
   "id": "5a1af165-9ea9-4619-9e69-96fcc16704e2",
   "metadata": {},
   "outputs": [
    {
     "data": {
      "text/plain": [
       "5"
      ]
     },
     "execution_count": 3,
     "metadata": {},
     "output_type": "execute_result"
    }
   ],
   "source": [
    "2 + 3"
   ]
  },
  {
   "cell_type": "markdown",
   "id": "df08c26c-b1d8-48c8-9e31-dcc89f2cf2a0",
   "metadata": {},
   "source": [
    "this is also markdown"
   ]
  },
  {
   "cell_type": "markdown",
   "id": "149a7060-0ee4-404f-84cb-94941d101eb1",
   "metadata": {},
   "source": [
    "*send help*"
   ]
  },
  {
   "cell_type": "markdown",
   "id": "820999b4-b0e8-49eb-9ab3-a1a955baa374",
   "metadata": {},
   "source": [
    "## How to get into markdown mode ##\n",
    "*esc m*\n",
    "\n",
    "## How to get out of markdown ##\n",
    "*esc y*"
   ]
  },
  {
   "cell_type": "code",
   "execution_count": 5,
   "id": "1c61eab6-4af2-4089-af5d-6f8d3ccacdd6",
   "metadata": {},
   "outputs": [
    {
     "name": "stdout",
     "output_type": "stream",
     "text": [
      "2\n"
     ]
    }
   ],
   "source": [
    "print (1+1)"
   ]
  },
  {
   "cell_type": "code",
   "execution_count": 7,
   "id": "615fce7f-3bb3-4c44-aeee-9ee07e477c4e",
   "metadata": {},
   "outputs": [
    {
     "name": "stdout",
     "output_type": "stream",
     "text": [
      "1 + 1\n"
     ]
    }
   ],
   "source": [
    "print ('1 + 1')"
   ]
  },
  {
   "cell_type": "markdown",
   "id": "fd799e2f-15d5-4fc9-814b-57cbbf8bbcc3",
   "metadata": {},
   "source": [
    "## What are data types? ##\n",
    "\n",
    "* Data types affect how information is stored, and the way that they interact with other code *\n",
    "\n",
    "**Common types**:\n",
    "\n",
    "> string (i.e., str)\n",
    "\n",
    "> Numeric (i.e, integer/int or floating point/float)"
   ]
  },
  {
   "cell_type": "code",
   "execution_count": 18,
   "id": "dc620b37-6c7e-474c-a3ae-25dfd5c6f1a1",
   "metadata": {},
   "outputs": [
    {
     "name": "stdout",
     "output_type": "stream",
     "text": [
      "hello world\n"
     ]
    }
   ],
   "source": [
    "print ('hello world')"
   ]
  },
  {
   "cell_type": "code",
   "execution_count": 19,
   "id": "c303a11c-a520-4016-8454-b73c8967ec46",
   "metadata": {},
   "outputs": [
    {
     "name": "stdout",
     "output_type": "stream",
     "text": [
      "Help on built-in function print in module builtins:\n",
      "\n",
      "print(*args, sep=' ', end='\\n', file=None, flush=False)\n",
      "    Prints the values to a stream, or to sys.stdout by default.\n",
      "\n",
      "    sep\n",
      "      string inserted between values, default a space.\n",
      "    end\n",
      "      string appended after the last value, default a newline.\n",
      "    file\n",
      "      a file-like object (stream); defaults to the current sys.stdout.\n",
      "    flush\n",
      "      whether to forcibly flush the stream.\n",
      "\n"
     ]
    }
   ],
   "source": [
    "help(print)"
   ]
  },
  {
   "cell_type": "markdown",
   "id": "9639cd78-825c-4427-8373-6cb64e7876a7",
   "metadata": {},
   "source": [
    "### The 'help' command ###\n",
    "\n",
    "* **The above is like the manual command we used in the terminal shell**\n",
    "\n",
    "* **Example**: Help (print) tells you what 'print' does and what the different commands do*"
   ]
  },
  {
   "cell_type": "markdown",
   "id": "1f88f674-ef79-43eb-8fd1-d1f58a3381bf",
   "metadata": {},
   "source": [
    "### Variables ###\n",
    "\n",
    "* Placeholders for storing data values\n",
    "\n",
    "* They are declared using the = character (see below)"
   ]
  },
  {
   "cell_type": "code",
   "execution_count": 20,
   "id": "975d9cb7-6017-4681-83c2-9c4084e00d87",
   "metadata": {},
   "outputs": [],
   "source": [
    "x = 1 + 1\n",
    "text = 'hello world'"
   ]
  },
  {
   "cell_type": "markdown",
   "id": "2a2383e4-9be4-45e8-9301-2ae005934b59",
   "metadata": {},
   "source": [
    "*No output = using 'x' is storing it for latter"
   ]
  },
  {
   "cell_type": "code",
   "execution_count": 21,
   "id": "168c6a92-4058-487c-99db-cee1c74ff1d0",
   "metadata": {},
   "outputs": [
    {
     "data": {
      "text/plain": [
       "2"
      ]
     },
     "execution_count": 21,
     "metadata": {},
     "output_type": "execute_result"
    }
   ],
   "source": [
    "x"
   ]
  },
  {
   "cell_type": "code",
   "execution_count": 22,
   "id": "c1baaedf-5c1f-4e52-a62b-c4851b4bb141",
   "metadata": {},
   "outputs": [
    {
     "data": {
      "text/plain": [
       "'hello world'"
      ]
     },
     "execution_count": 22,
     "metadata": {},
     "output_type": "execute_result"
    }
   ],
   "source": [
    "text"
   ]
  },
  {
   "cell_type": "code",
   "execution_count": 23,
   "id": "f9e54403-bcb0-4dc5-977c-892101f7575e",
   "metadata": {},
   "outputs": [
    {
     "ename": "SyntaxError",
     "evalue": "invalid syntax (3106739007.py, line 1)",
     "output_type": "error",
     "traceback": [
      "\u001b[1;36m  Cell \u001b[1;32mIn[23], line 1\u001b[1;36m\u001b[0m\n\u001b[1;33m    myVar =\u001b[0m\n\u001b[1;37m            ^\u001b[0m\n\u001b[1;31mSyntaxError\u001b[0m\u001b[1;31m:\u001b[0m invalid syntax\n"
     ]
    }
   ],
   "source": [
    "myVar = "
   ]
  },
  {
   "cell_type": "markdown",
   "id": "b0dfdf7b-9cd3-4e09-ac3e-38bc04df6b10",
   "metadata": {},
   "source": [
    "*Cannot assign a blank or empty variable - This will not work*"
   ]
  },
  {
   "cell_type": "markdown",
   "id": "508b0478-ee2b-4e2b-9b0b-346ddfd6a06d",
   "metadata": {},
   "source": [
    "### Variable naming in Python ###\n",
    "\n",
    "* Variables must start with a letter or underscore\n",
    "* Can only contain numbers, letters and underscore\n",
    "* CANNOT start with a number\n",
    "\n",
    "* **Remember**: They are very case sensitive"
   ]
  },
  {
   "cell_type": "code",
   "execution_count": 25,
   "id": "735a1cd7-f46c-4254-96cf-5c2e54602847",
   "metadata": {},
   "outputs": [],
   "source": [
    "a, b, c = 1, 2, 3"
   ]
  },
  {
   "cell_type": "code",
   "execution_count": 27,
   "id": "6512a9e9-2e2b-4d77-80a2-5a9d44c3b48f",
   "metadata": {},
   "outputs": [],
   "source": [
    "x = y = z = 10"
   ]
  },
  {
   "cell_type": "code",
   "execution_count": 28,
   "id": "c12d847d-ad35-41d0-bed4-b74012a7892c",
   "metadata": {},
   "outputs": [
    {
     "data": {
      "text/plain": [
       "10"
      ]
     },
     "execution_count": 28,
     "metadata": {},
     "output_type": "execute_result"
    }
   ],
   "source": [
    "x"
   ]
  },
  {
   "cell_type": "code",
   "execution_count": 29,
   "id": "649e9bda-c35b-4b57-be88-aac132ce90e4",
   "metadata": {},
   "outputs": [
    {
     "data": {
      "text/plain": [
       "1"
      ]
     },
     "execution_count": 29,
     "metadata": {},
     "output_type": "execute_result"
    }
   ],
   "source": [
    "a"
   ]
  },
  {
   "cell_type": "code",
   "execution_count": 30,
   "id": "bd3266b5-ce55-4a72-86e0-8fe8e859150c",
   "metadata": {},
   "outputs": [
    {
     "data": {
      "text/plain": [
       "2"
      ]
     },
     "execution_count": 30,
     "metadata": {},
     "output_type": "execute_result"
    }
   ],
   "source": [
    "b"
   ]
  },
  {
   "cell_type": "code",
   "execution_count": 31,
   "id": "a2548cda-b867-4a99-a6c1-8783afaeab9c",
   "metadata": {},
   "outputs": [
    {
     "data": {
      "text/plain": [
       "3"
      ]
     },
     "execution_count": 31,
     "metadata": {},
     "output_type": "execute_result"
    }
   ],
   "source": [
    "c"
   ]
  },
  {
   "cell_type": "code",
   "execution_count": 32,
   "id": "89b296f5-0172-44c8-b021-461abf695921",
   "metadata": {},
   "outputs": [
    {
     "data": {
      "text/plain": [
       "3"
      ]
     },
     "execution_count": 32,
     "metadata": {},
     "output_type": "execute_result"
    }
   ],
   "source": [
    "a + b"
   ]
  },
  {
   "cell_type": "code",
   "execution_count": 33,
   "id": "7da908dd-67e6-44dc-95be-5e66ff4832cf",
   "metadata": {},
   "outputs": [
    {
     "ename": "TypeError",
     "evalue": "can only concatenate str (not \"int\") to str",
     "output_type": "error",
     "traceback": [
      "\u001b[1;31m---------------------------------------------------------------------------\u001b[0m",
      "\u001b[1;31mTypeError\u001b[0m                                 Traceback (most recent call last)",
      "Cell \u001b[1;32mIn[33], line 1\u001b[0m\n\u001b[1;32m----> 1\u001b[0m \u001b[38;5;124m'\u001b[39m\u001b[38;5;124mhello\u001b[39m\u001b[38;5;124m'\u001b[39m \u001b[38;5;241m+\u001b[39m x\n",
      "\u001b[1;31mTypeError\u001b[0m: can only concatenate str (not \"int\") to str"
     ]
    }
   ],
   "source": [
    "'hello' + x"
   ]
  },
  {
   "cell_type": "markdown",
   "id": "c441096c-9ec2-42bf-b189-e2a587267884",
   "metadata": {},
   "source": [
    "*The above was not appreciated*"
   ]
  },
  {
   "cell_type": "code",
   "execution_count": 34,
   "id": "2881623f-f411-4036-9621-eee73e335148",
   "metadata": {},
   "outputs": [
    {
     "data": {
      "text/plain": [
       "'ab'"
      ]
     },
     "execution_count": 34,
     "metadata": {},
     "output_type": "execute_result"
    }
   ],
   "source": [
    "'a' + 'b'"
   ]
  },
  {
   "cell_type": "markdown",
   "id": "ff5a0220-dcf8-47f7-9916-41d5a9b13812",
   "metadata": {},
   "source": [
    "**The addition sign works with both numeric values and string**"
   ]
  },
  {
   "cell_type": "code",
   "execution_count": 35,
   "id": "60307116-c679-45ee-9bd5-ec383ee47564",
   "metadata": {},
   "outputs": [
    {
     "data": {
      "text/plain": [
       "int"
      ]
     },
     "execution_count": 35,
     "metadata": {},
     "output_type": "execute_result"
    }
   ],
   "source": [
    "type(x)"
   ]
  },
  {
   "cell_type": "markdown",
   "id": "a96faef8-6ee1-41d0-98b3-385a3ead613f",
   "metadata": {},
   "source": [
    "**This tells you the variable x is an integer**"
   ]
  },
  {
   "cell_type": "code",
   "execution_count": 36,
   "id": "3da552e4-a2ad-4edf-b542-1eae3fc56716",
   "metadata": {},
   "outputs": [
    {
     "data": {
      "text/plain": [
       "str"
      ]
     },
     "execution_count": 36,
     "metadata": {},
     "output_type": "execute_result"
    }
   ],
   "source": [
    "x = 'some text'\n",
    "type(x)"
   ]
  },
  {
   "cell_type": "markdown",
   "id": "027984f0-4ae7-4157-a0e6-7fd994374cba",
   "metadata": {},
   "source": [
    "**You can overwrite the variable (x) and make a string from an integer**"
   ]
  },
  {
   "cell_type": "markdown",
   "id": "89087402-a85f-4c2d-a6be-e4b66d20c938",
   "metadata": {},
   "source": [
    "### Errors ###\n",
    "\n",
    "* **They mean that you did something wrong**\n",
    "\n",
    "* *Make sure you read the message, because it will tell you where in the code is wrong (i.e., the line) and what went wrong*"
   ]
  },
  {
   "cell_type": "code",
   "execution_count": 37,
   "id": "6defcd9e-3d2d-4ff8-b413-61bcdd0556fb",
   "metadata": {},
   "outputs": [
    {
     "ename": "SyntaxError",
     "evalue": "invalid syntax (2065419873.py, line 1)",
     "output_type": "error",
     "traceback": [
      "\u001b[1;36m  Cell \u001b[1;32mIn[37], line 1\u001b[1;36m\u001b[0m\n\u001b[1;33m    x = 1 + 1:\u001b[0m\n\u001b[1;37m             ^\u001b[0m\n\u001b[1;31mSyntaxError\u001b[0m\u001b[1;31m:\u001b[0m invalid syntax\n"
     ]
    }
   ],
   "source": [
    "x = 1 + 1:"
   ]
  },
  {
   "cell_type": "markdown",
   "id": "c117a1f3-4f19-4921-a89d-643a7d5cf75d",
   "metadata": {},
   "source": [
    "**Syntax error:** This shows the specific location and that the syntax is invalid"
   ]
  },
  {
   "cell_type": "code",
   "execution_count": 38,
   "id": "aaa101fe-580c-4b45-be27-42ca0e6e8342",
   "metadata": {},
   "outputs": [
    {
     "ename": "NameError",
     "evalue": "name 'myVar' is not defined",
     "output_type": "error",
     "traceback": [
      "\u001b[1;31m---------------------------------------------------------------------------\u001b[0m",
      "\u001b[1;31mNameError\u001b[0m                                 Traceback (most recent call last)",
      "Cell \u001b[1;32mIn[38], line 1\u001b[0m\n\u001b[1;32m----> 1\u001b[0m \u001b[38;5;28mprint\u001b[39m(myVar)\n",
      "\u001b[1;31mNameError\u001b[0m: name 'myVar' is not defined"
     ]
    }
   ],
   "source": [
    "print(myVar)"
   ]
  },
  {
   "cell_type": "markdown",
   "id": "d25f1823-6a02-49e8-9202-6d78dd2506cc",
   "metadata": {},
   "source": [
    "**Name error**: There is no function or variable named \"MyVar\""
   ]
  },
  {
   "cell_type": "markdown",
   "id": "851e411c-b488-4078-9896-f10679221b26",
   "metadata": {},
   "source": [
    "*Likely most of the errors we get will be syntax errors and name errors (i.e., very common)*\n",
    "\n",
    "*Always double check the spelling of variables*"
   ]
  },
  {
   "cell_type": "code",
   "execution_count": 39,
   "id": "cc7ad1aa-47dd-430c-b762-360efc3a1738",
   "metadata": {},
   "outputs": [
    {
     "ename": "NameError",
     "evalue": "name 'x' is not defined",
     "output_type": "error",
     "traceback": [
      "\u001b[1;31m---------------------------------------------------------------------------\u001b[0m",
      "\u001b[1;31mNameError\u001b[0m                                 Traceback (most recent call last)",
      "Cell \u001b[1;32mIn[39], line 2\u001b[0m\n\u001b[0;32m      1\u001b[0m \u001b[38;5;28;01mdel\u001b[39;00m(x)\n\u001b[1;32m----> 2\u001b[0m \u001b[38;5;28mprint\u001b[39m(x)\n",
      "\u001b[1;31mNameError\u001b[0m: name 'x' is not defined"
     ]
    }
   ],
   "source": [
    "del(x)\n",
    "print(x)"
   ]
  },
  {
   "cell_type": "code",
   "execution_count": 40,
   "id": "fa4fbaa7-41a7-48d4-8ca1-72f31abc4664",
   "metadata": {},
   "outputs": [
    {
     "data": {
      "text/plain": [
       "'C:\\\\Users\\\\tinne'"
      ]
     },
     "execution_count": 40,
     "metadata": {},
     "output_type": "execute_result"
    }
   ],
   "source": [
    "pwd"
   ]
  },
  {
   "cell_type": "markdown",
   "id": "87ab99a1-5070-47cb-a436-ccea0f6af8d3",
   "metadata": {},
   "source": [
    "# Second half of class notes #"
   ]
  },
  {
   "cell_type": "code",
   "execution_count": 42,
   "id": "15c1758e-521a-4b6b-b8f3-d2b7e8767bbb",
   "metadata": {},
   "outputs": [
    {
     "data": {
      "text/plain": [
       "3"
      ]
     },
     "execution_count": 42,
     "metadata": {},
     "output_type": "execute_result"
    }
   ],
   "source": [
    "myString = '111'\n",
    "len(myString)"
   ]
  },
  {
   "cell_type": "markdown",
   "id": "676e52dc-fde2-4b1f-844b-e32148db42c8",
   "metadata": {},
   "source": [
    "**The variable 'myString' has a length of 3 (i.e., each character that makes it up is valued at 1)**"
   ]
  },
  {
   "cell_type": "code",
   "execution_count": 44,
   "id": "372aa74d-67c7-47ba-9d06-9b3e1604ce9e",
   "metadata": {},
   "outputs": [
    {
     "data": {
      "text/plain": [
       "11"
      ]
     },
     "execution_count": 44,
     "metadata": {},
     "output_type": "execute_result"
    }
   ],
   "source": [
    "newString =\"hello world\"\n",
    "len(newString)"
   ]
  },
  {
   "cell_type": "markdown",
   "id": "17ab09a3-f7a5-4098-8bac-b7bbc8963d02",
   "metadata": {},
   "source": [
    "**The variable \"newString\" has 11 characters**"
   ]
  },
  {
   "cell_type": "markdown",
   "id": "bf3d1e3f-72f0-4004-bcd5-c8a7bdb9ac79",
   "metadata": {},
   "source": [
    "### Indexing ##\n",
    "\n",
    "* You can index or select a specific element of that variable using the [ ] characters *\n",
    "  "
   ]
  },
  {
   "cell_type": "code",
   "execution_count": 46,
   "id": "d7bc7ee2-a091-4645-aaa9-db778f9f3a25",
   "metadata": {},
   "outputs": [
    {
     "data": {
      "text/plain": [
       "'h'"
      ]
     },
     "execution_count": 46,
     "metadata": {},
     "output_type": "execute_result"
    }
   ],
   "source": [
    "newString[0]"
   ]
  },
  {
   "cell_type": "markdown",
   "id": "09855fed-d524-4076-82ad-a1e70fe43422",
   "metadata": {},
   "source": [
    "* This is called string slicing (i.e., pointing to a particualr index of that list of characters)\n",
    "* 'hello world' starts at 0 but has 11 characters (i.e., 0-10)"
   ]
  },
  {
   "cell_type": "markdown",
   "id": "9ffece25-f6fd-4df7-a54a-040de4297269",
   "metadata": {},
   "source": [
    "* You can also specify a range of values separated by a \":\"\n",
    "* You can also index starting from the end of the string using negative values"
   ]
  },
  {
   "cell_type": "code",
   "execution_count": 52,
   "id": "d3b1c7df-611e-4549-b10c-3beff734d8df",
   "metadata": {},
   "outputs": [
    {
     "data": {
      "text/plain": [
       "'ello'"
      ]
     },
     "execution_count": 52,
     "metadata": {},
     "output_type": "execute_result"
    }
   ],
   "source": [
    "newString[1:5]"
   ]
  },
  {
   "cell_type": "code",
   "execution_count": 53,
   "id": "2cec0af9-ac67-4d0b-aac7-009af41f4225",
   "metadata": {},
   "outputs": [
    {
     "data": {
      "text/plain": [
       "'el o'"
      ]
     },
     "execution_count": 53,
     "metadata": {},
     "output_type": "execute_result"
    }
   ],
   "source": [
    "newString[1:9:2]"
   ]
  },
  {
   "cell_type": "code",
   "execution_count": 54,
   "id": "6fbcbafd-6687-4e8f-9c52-8edc30f4b1af",
   "metadata": {},
   "outputs": [
    {
     "data": {
      "text/plain": [
       "'drwo'"
      ]
     },
     "execution_count": 54,
     "metadata": {},
     "output_type": "execute_result"
    }
   ],
   "source": [
    "newString[-1:2:-2]"
   ]
  },
  {
   "cell_type": "markdown",
   "id": "97f76d22-6d88-4843-9921-e58a3a70c8fc",
   "metadata": {},
   "source": [
    "* start at the last character, go back to the second index, skipping by -2"
   ]
  },
  {
   "cell_type": "code",
   "execution_count": 56,
   "id": "60d89ddb-7ed3-4ddf-904f-a43d76852cc9",
   "metadata": {},
   "outputs": [
    {
     "data": {
      "text/plain": [
       "'hello'"
      ]
     },
     "execution_count": 56,
     "metadata": {},
     "output_type": "execute_result"
    }
   ],
   "source": [
    "newString[0:5]"
   ]
  },
  {
   "cell_type": "code",
   "execution_count": 58,
   "id": "8558103f-5335-44c1-bca4-8bf875ef0d27",
   "metadata": {},
   "outputs": [
    {
     "data": {
      "text/plain": [
       "'world'"
      ]
     },
     "execution_count": 58,
     "metadata": {},
     "output_type": "execute_result"
    }
   ],
   "source": [
    "newString[6:11]"
   ]
  },
  {
   "cell_type": "code",
   "execution_count": 65,
   "id": "a3a8fe56-59ad-4b25-8e28-e88b8fdc4ef6",
   "metadata": {},
   "outputs": [
    {
     "data": {
      "text/plain": [
       "'dlrow olle'"
      ]
     },
     "execution_count": 65,
     "metadata": {},
     "output_type": "execute_result"
    }
   ],
   "source": [
    "newString[-1:0:-1]"
   ]
  },
  {
   "cell_type": "markdown",
   "id": "61c4a1a0-bab4-4b29-9851-e036ab9d3b7b",
   "metadata": {},
   "source": [
    "* Nope not what we wanted\n",
    "  "
   ]
  },
  {
   "cell_type": "code",
   "execution_count": 67,
   "id": "01e04b87-62fd-4796-942d-674937defba5",
   "metadata": {},
   "outputs": [
    {
     "data": {
      "text/plain": [
       "'dlrow olleh'"
      ]
     },
     "execution_count": 67,
     "metadata": {},
     "output_type": "execute_result"
    }
   ],
   "source": [
    "newString[-1:-12:-1]"
   ]
  },
  {
   "cell_type": "markdown",
   "id": "5235e7a7-1faa-4f72-ab8a-281ed02b36e3",
   "metadata": {},
   "source": [
    "* Ranges are non-inclusive\n",
    "* If I am saying from (0-5) - Take the first 5 elements (0, 1, 2, 3, 4)\n",
    "* If we wanted to include all the letters of ('hello world'), we need to include -11 (and used -12)"
   ]
  },
  {
   "cell_type": "markdown",
   "id": "72299515-78a1-4657-922d-0518270c2f74",
   "metadata": {},
   "source": [
    "### Lists ##\n",
    "\n",
    "* Another form of data type\n",
    "* Using square brackets []\n",
    "* **Example**: [\"whiskey\", \"vodka\", \"lager\", \"cider\"]\n",
    "* **Lists are**: Ordered (i.e., defined order that will not change; new items are added at the end of the list) and changeable (i.e., we can change, add, and remove items from a specific list).\n",
    "* Lists can store variables of different data types\n",
    "* Lists can be empty"
   ]
  },
  {
   "cell_type": "code",
   "execution_count": 69,
   "id": "1ba0fec0-f7e5-45aa-bd9c-8a74d7485332",
   "metadata": {},
   "outputs": [],
   "source": [
    "drinks = [\"whiskey\", \"vodka\", \"lager\", \"cider\"]"
   ]
  },
  {
   "cell_type": "code",
   "execution_count": 73,
   "id": "fe054bd4-3176-45f6-ab53-ad207b2bac0e",
   "metadata": {},
   "outputs": [],
   "source": [
    "drinks[3] = \"tequila\""
   ]
  },
  {
   "cell_type": "code",
   "execution_count": 74,
   "id": "50dc12bb-7634-4527-ac3e-c23d633aca04",
   "metadata": {},
   "outputs": [
    {
     "data": {
      "text/plain": [
       "['whiskey', 'vodka', 'lager', 'tequila']"
      ]
     },
     "execution_count": 74,
     "metadata": {},
     "output_type": "execute_result"
    }
   ],
   "source": [
    "drinks"
   ]
  },
  {
   "cell_type": "code",
   "execution_count": 79,
   "id": "1f042861-7296-40ee-b03b-68d6889507c6",
   "metadata": {},
   "outputs": [],
   "source": [
    "drinks[2]= \"101\""
   ]
  },
  {
   "cell_type": "code",
   "execution_count": 80,
   "id": "e3c67541-f6f1-49a9-8b8e-0116ea4119d0",
   "metadata": {},
   "outputs": [
    {
     "data": {
      "text/plain": [
       "list"
      ]
     },
     "execution_count": 80,
     "metadata": {},
     "output_type": "execute_result"
    }
   ],
   "source": [
    "type(drinks)"
   ]
  },
  {
   "cell_type": "code",
   "execution_count": 82,
   "id": "9d311852-307b-4a41-9991-30811c1ff390",
   "metadata": {},
   "outputs": [
    {
     "name": "stdout",
     "output_type": "stream",
     "text": [
      "whiskey\n"
     ]
    }
   ],
   "source": [
    "shots = drinks[0]\n",
    "print(shots)"
   ]
  },
  {
   "cell_type": "markdown",
   "id": "d0eed34a-7045-40a8-9d82-006b7299809c",
   "metadata": {},
   "source": [
    "* Just need to know and remember the indexes "
   ]
  },
  {
   "cell_type": "code",
   "execution_count": 88,
   "id": "2f82dc46-2a0f-40c1-a026-b880d7dcf9f6",
   "metadata": {},
   "outputs": [
    {
     "data": {
      "text/plain": [
       "['101', 'tequila']"
      ]
     },
     "execution_count": 88,
     "metadata": {},
     "output_type": "execute_result"
    }
   ],
   "source": [
    "drinks[2:4]"
   ]
  },
  {
   "cell_type": "code",
   "execution_count": 90,
   "id": "20728afd-961b-4a6b-9c50-6b4035002da0",
   "metadata": {},
   "outputs": [],
   "source": [
    "drinks.append(\"wine\")"
   ]
  },
  {
   "cell_type": "markdown",
   "id": "395726f5-0f2a-4608-977d-233f7371b355",
   "metadata": {},
   "source": [
    "* Append is a method of data types of lists (i.e., can add to the list)"
   ]
  },
  {
   "cell_type": "code",
   "execution_count": 91,
   "id": "155e5340-4e7a-4e32-ae40-ebd49b2fac0b",
   "metadata": {},
   "outputs": [
    {
     "data": {
      "text/plain": [
       "['whiskey', 'vodka', '101', 'tequila', 'wine']"
      ]
     },
     "execution_count": 91,
     "metadata": {},
     "output_type": "execute_result"
    }
   ],
   "source": [
    "drinks"
   ]
  },
  {
   "cell_type": "code",
   "execution_count": 92,
   "id": "f660a9d2-1eab-4d24-a480-9fca6e83b167",
   "metadata": {},
   "outputs": [
    {
     "data": {
      "text/plain": [
       "5"
      ]
     },
     "execution_count": 92,
     "metadata": {},
     "output_type": "execute_result"
    }
   ],
   "source": [
    "len(drinks)"
   ]
  },
  {
   "cell_type": "markdown",
   "id": "5a06965d-79e2-4db3-8b9e-5a796edeb0c7",
   "metadata": {},
   "source": [
    "* Can see what the drinks are\n",
    "* Can see how many drinks there are in the list"
   ]
  },
  {
   "cell_type": "markdown",
   "id": "e1634154-c5c6-49bb-98a3-b846853da99f",
   "metadata": {},
   "source": [
    "#### Difference between append and add #####"
   ]
  },
  {
   "cell_type": "code",
   "execution_count": 94,
   "id": "10fbf666-558e-4228-824d-168c08726d8c",
   "metadata": {},
   "outputs": [],
   "source": [
    "newDrinks = [\"beer\", \"water\"]"
   ]
  },
  {
   "cell_type": "code",
   "execution_count": 95,
   "id": "ad958c74-3f7f-4fbc-b987-7dc04cb7547c",
   "metadata": {},
   "outputs": [],
   "source": [
    "drinks.append(newDrinks)"
   ]
  },
  {
   "cell_type": "code",
   "execution_count": 96,
   "id": "fb3d50c1-e7b0-4d67-ab61-2677416a276e",
   "metadata": {},
   "outputs": [
    {
     "data": {
      "text/plain": [
       "['whiskey', 'vodka', '101', 'tequila', 'wine', ['beer', 'water']]"
      ]
     },
     "execution_count": 96,
     "metadata": {},
     "output_type": "execute_result"
    }
   ],
   "source": [
    "drinks"
   ]
  },
  {
   "cell_type": "markdown",
   "id": "63aec4bb-71ce-493a-bde3-054cc866b580",
   "metadata": {},
   "source": [
    "* It appened that list with another list at the end"
   ]
  },
  {
   "cell_type": "code",
   "execution_count": 98,
   "id": "bf9ca7f7-79cf-419e-aae7-07aa2cdbc23c",
   "metadata": {},
   "outputs": [],
   "source": [
    "drinks.extend(newDrinks)"
   ]
  },
  {
   "cell_type": "markdown",
   "id": "0635103a-a915-4be5-9f6e-497be02c015f",
   "metadata": {},
   "source": [
    "* However, extend will actually extend the original list"
   ]
  },
  {
   "cell_type": "code",
   "execution_count": 101,
   "id": "acafc05e-9d86-431c-bb6f-2d7dd7be7854",
   "metadata": {},
   "outputs": [],
   "source": [
    "drinks.insert(3,\"ice tea\")"
   ]
  },
  {
   "cell_type": "markdown",
   "id": "19a2b5d4-2b65-4063-9e27-4f8390e5c19e",
   "metadata": {},
   "source": [
    "* Calling in a new drink (i.e., ice tea), and after character 3 \n",
    "* This just inserts the new item to the list where you want it to go"
   ]
  },
  {
   "cell_type": "markdown",
   "id": "9a991abf-6dc8-446c-90cc-f5360ae59919",
   "metadata": {},
   "source": [
    "### Tuples, Sets, and Dictionaries ##\n",
    "\n",
    "* A **Tuple** is ordered and unchangeable (i.e., using ( ))\n",
    "* A **Set** is unordered, unchangeable, and unindexed (i.e., using { })\n",
    "* A **dictionary** stores data key:value pairs (i.e., it is ordered, changeable, and does not allow supplicates - not the same thing twice). "
   ]
  },
  {
   "attachments": {},
   "cell_type": "markdown",
   "id": "0c57615b-9813-45e0-b7fe-596b7177e62e",
   "metadata": {},
   "source": [
    "### If Statements (i.e., conditional statements) ###\n",
    "\n",
    "* Programming uses conditional statements to control the flow of a program and perform actions\n",
    "* Carried out by evaluating booleans (“if a condition is true, do one thing; if it is false, do another)"
   ]
  },
  {
   "cell_type": "markdown",
   "id": "af404fe7-d14e-4af6-adc1-5c71a7712132",
   "metadata": {},
   "source": [
    "#### Boolean Values ####\n",
    "\n",
    "* Things that will return either a \"TRUE\" or \"FALSE\"\n",
    "* Expressed via operators\n",
    "* **Comparison operators**: ==, !=, >, <, <=, >=\n",
    "* **Logical operators**: and, or, not\n",
    "* **Membership operators**: in, not in"
   ]
  },
  {
   "cell_type": "code",
   "execution_count": 103,
   "id": "1546b517-32a6-410f-a7f3-b1d847590133",
   "metadata": {},
   "outputs": [
    {
     "data": {
      "text/plain": [
       "False"
      ]
     },
     "execution_count": 103,
     "metadata": {},
     "output_type": "execute_result"
    }
   ],
   "source": [
    "x, y = 1, 2\n",
    "x == y"
   ]
  },
  {
   "cell_type": "code",
   "execution_count": 104,
   "id": "709ab9c6-f393-4c34-82ca-c393f74429eb",
   "metadata": {},
   "outputs": [
    {
     "data": {
      "text/plain": [
       "True"
      ]
     },
     "execution_count": 104,
     "metadata": {},
     "output_type": "execute_result"
    }
   ],
   "source": [
    "x != y"
   ]
  },
  {
   "cell_type": "code",
   "execution_count": 105,
   "id": "88a8fc6f-591f-489a-bb9f-9f8eb3c92a1c",
   "metadata": {},
   "outputs": [
    {
     "data": {
      "text/plain": [
       "False"
      ]
     },
     "execution_count": 105,
     "metadata": {},
     "output_type": "execute_result"
    }
   ],
   "source": [
    "x >= y"
   ]
  },
  {
   "cell_type": "code",
   "execution_count": 106,
   "id": "49cc2d64-2452-4d64-bf39-cd3d1c7a17bf",
   "metadata": {},
   "outputs": [
    {
     "data": {
      "text/plain": [
       "False"
      ]
     },
     "execution_count": 106,
     "metadata": {},
     "output_type": "execute_result"
    }
   ],
   "source": [
    "y = 'a'\n",
    "x == y"
   ]
  },
  {
   "cell_type": "markdown",
   "id": "68d0f945-14d6-4011-b54a-28808f1b6778",
   "metadata": {},
   "source": [
    "* Can compare variables of different types"
   ]
  },
  {
   "cell_type": "code",
   "execution_count": 108,
   "id": "08d56d52-f941-4b3b-9d58-361848796a35",
   "metadata": {},
   "outputs": [],
   "source": [
    "y = 2"
   ]
  },
  {
   "cell_type": "code",
   "execution_count": 110,
   "id": "577e693a-3d32-481d-9d01-35bec32a22e1",
   "metadata": {},
   "outputs": [
    {
     "data": {
      "text/plain": [
       "False"
      ]
     },
     "execution_count": 110,
     "metadata": {},
     "output_type": "execute_result"
    }
   ],
   "source": [
    "x != y and x > y"
   ]
  },
  {
   "cell_type": "markdown",
   "id": "efb22b20-c88e-4024-9e91-1545799553d0",
   "metadata": {},
   "source": [
    "* For it to return 'TRUE', both statements need to be true"
   ]
  },
  {
   "cell_type": "code",
   "execution_count": 112,
   "id": "ec56232c-7242-4e53-8ab0-2c13882b4d2a",
   "metadata": {},
   "outputs": [
    {
     "data": {
      "text/plain": [
       "True"
      ]
     },
     "execution_count": 112,
     "metadata": {},
     "output_type": "execute_result"
    }
   ],
   "source": [
    "x != y or x > y"
   ]
  },
  {
   "cell_type": "markdown",
   "id": "9a3fff65-02fb-4b8c-8bff-e22a73a3794d",
   "metadata": {},
   "source": [
    "* At least one of the statements is true"
   ]
  },
  {
   "cell_type": "code",
   "execution_count": 115,
   "id": "9690bda2-f029-4913-98a5-0155126c24e9",
   "metadata": {},
   "outputs": [
    {
     "data": {
      "text/plain": [
       "True"
      ]
     },
     "execution_count": 115,
     "metadata": {},
     "output_type": "execute_result"
    }
   ],
   "source": [
    "x != y and bool(1)"
   ]
  },
  {
   "cell_type": "markdown",
   "id": "35785afa-dc26-4942-a8d9-df14141e6fa5",
   "metadata": {},
   "source": [
    "* Good way to see if anything is contained in a variable\n",
    "  "
   ]
  },
  {
   "cell_type": "markdown",
   "id": "58263020-927a-479e-b096-0c785fc8e2fb",
   "metadata": {},
   "source": [
    "### Let's breakdown an IF statement ###"
   ]
  },
  {
   "cell_type": "code",
   "execution_count": 120,
   "id": "d17f4fbd-8578-4340-b1c6-7401cf6989e3",
   "metadata": {},
   "outputs": [
    {
     "name": "stdout",
     "output_type": "stream",
     "text": [
      "none of the above is true\n"
     ]
    }
   ],
   "source": [
    "a = 200\n",
    "b = 33\n",
    "if b > a:\n",
    "    print(\"b is greater than a\")\n",
    "elif a == b:\n",
    "    print(\"a and b are equal\")\n",
    "else: \n",
    "    print(\"none of the above is true\")"
   ]
  },
  {
   "cell_type": "markdown",
   "id": "2b66d3d3-45fe-49bf-b99f-796e0fd03b42",
   "metadata": {},
   "source": [
    "* **if** = Can have multiple, and they can run together \n",
    "* **elif** = Or else if (i.e., you can have as many of these as you want)\n",
    "* **else** = what to do if nothing above is true"
   ]
  },
  {
   "cell_type": "code",
   "execution_count": 122,
   "id": "18c453cb-d436-42f8-a501-f3be4ca18e03",
   "metadata": {},
   "outputs": [
    {
     "name": "stdout",
     "output_type": "stream",
     "text": [
      "b is greater than OR equal to a\n",
      "a is less than b\n"
     ]
    }
   ],
   "source": [
    "a = 200\n",
    "b = 200\n",
    "if b >= a:\n",
    "    print(\"b is greater than OR equal to a\")\n",
    "    if a == b:\n",
    "        print (\"a is less than b\")"
   ]
  },
  {
   "cell_type": "markdown",
   "id": "22d7d03e-e878-49b4-bbe1-d19adf57b69e",
   "metadata": {},
   "source": [
    "* This a nested IF statement\n",
    "* A self contained IF statement only has ONE IF statement"
   ]
  },
  {
   "cell_type": "markdown",
   "id": "8bc20dfb-a9ce-4b09-a977-b905ee0dc035",
   "metadata": {},
   "source": [
    "### Match and Case ###"
   ]
  },
  {
   "cell_type": "code",
   "execution_count": 124,
   "id": "974d80f0-768e-4ea6-83e0-e48969ede59c",
   "metadata": {},
   "outputs": [
    {
     "ename": "IndentationError",
     "evalue": "expected an indented block after 'match' statement on line 2 (1561065262.py, line 3)",
     "output_type": "error",
     "traceback": [
      "\u001b[1;36m  Cell \u001b[1;32mIn[124], line 3\u001b[1;36m\u001b[0m\n\u001b[1;33m    case 1:\u001b[0m\n\u001b[1;37m    ^\u001b[0m\n\u001b[1;31mIndentationError\u001b[0m\u001b[1;31m:\u001b[0m expected an indented block after 'match' statement on line 2\n"
     ]
    }
   ],
   "source": [
    "day = 4\n",
    "match day:\n",
    "case 1:\n",
    "    print(\"Monday\")\n",
    "case 2:\n",
    "    print(\"Tuesday\")\n",
    "case 3:\n",
    "    print(\"Wednesday\")\n",
    "case 4:\n",
    "    print(\"Thursday\")\n",
    "case 5:\n",
    "    print(\"Friday\")"
   ]
  },
  {
   "cell_type": "markdown",
   "id": "0ffa3904-dc43-4174-97c5-264688f400c3",
   "metadata": {},
   "source": [
    "* The other way to evaluate different outcomes (especially when you have a fixed number of outcomes) is through match and case"
   ]
  },
  {
   "cell_type": "markdown",
   "id": "2d4c7aaf-3bcd-4b08-b1d6-90696b939b3e",
   "metadata": {},
   "source": [
    "## In-Lab Final Exercise ##"
   ]
  },
  {
   "cell_type": "code",
   "execution_count": 126,
   "id": "d4750b59-ab78-43cf-8e88-bab3e1cfff13",
   "metadata": {},
   "outputs": [
    {
     "name": "stdin",
     "output_type": "stream",
     "text": [
      "Enter your name: Mimi\n"
     ]
    }
   ],
   "source": [
    "name = input (\"Enter your name:\")"
   ]
  },
  {
   "cell_type": "code",
   "execution_count": 127,
   "id": "42161a3f-019c-42f2-8dbd-40aab646bd4f",
   "metadata": {},
   "outputs": [
    {
     "data": {
      "text/plain": [
       "'Mimi'"
      ]
     },
     "execution_count": 127,
     "metadata": {},
     "output_type": "execute_result"
    }
   ],
   "source": [
    "name"
   ]
  },
  {
   "cell_type": "code",
   "execution_count": 135,
   "id": "e04579b5-4ced-40a3-aa40-eb51cd8da87e",
   "metadata": {},
   "outputs": [
    {
     "name": "stdin",
     "output_type": "stream",
     "text": [
      "Enter your name: Makenna\n"
     ]
    },
    {
     "name": "stdout",
     "output_type": "stream",
     "text": [
      "LD\n"
     ]
    }
   ],
   "source": [
    "name = input(\"Enter your name:\")\n",
    "if name == \"Mimi\":\n",
    "    print (\"BCN\")\n",
    "else:\n",
    "    if len(name) <=4:\n",
    "        print (\"SP\")\n",
    "    elif len(name) > 4 and len(name) <=7:\n",
    "        print (\"LD\")\n",
    "    else:\n",
    "        print(\"BCN\")"
   ]
  },
  {
   "cell_type": "markdown",
   "id": "4cd03e3f-160a-43eb-8e12-d7a350ad1713",
   "metadata": {},
   "source": [
    "#### This above is a bit inefficient ####\n",
    "\n",
    "**What can we do to fix it:**\n",
    "\n",
    "* Instead of calling the length function, you could do: nameLen = len(name)\n",
    "* Instead of calling the print function, you only call it once (i.e., print(area) OR print(\"Your area is:\" + area))\n",
    "  "
   ]
  },
  {
   "cell_type": "code",
   "execution_count": null,
   "id": "081e46e2-d740-4c66-ab36-a2d3604ebbdb",
   "metadata": {},
   "outputs": [],
   "source": []
  }
 ],
 "metadata": {
  "kernelspec": {
   "display_name": "Python 3 (ipykernel)",
   "language": "python",
   "name": "python3"
  },
  "language_info": {
   "codemirror_mode": {
    "name": "ipython",
    "version": 3
   },
   "file_extension": ".py",
   "mimetype": "text/x-python",
   "name": "python",
   "nbconvert_exporter": "python",
   "pygments_lexer": "ipython3",
   "version": "3.13.5"
  }
 },
 "nbformat": 4,
 "nbformat_minor": 5
}
