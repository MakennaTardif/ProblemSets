{
 "cells": [
  {
   "cell_type": "markdown",
   "id": "b4600b73-168d-49ae-8a8d-560068ef00d3",
   "metadata": {},
   "source": [
    "### Review: Before the Hackaton ###"
   ]
  },
  {
   "cell_type": "markdown",
   "id": "96d2570e-2613-4222-920f-571ec5409415",
   "metadata": {},
   "source": [
    "#### Notes from the assignment (i.e., Problem set 2) ####\n",
    "> Need to explain the logic of the code you are using, and not just what the code does\n",
    "\n",
    "> To ensure your code did not run, close everything, and try it again (i.e., probably had variables declared that he did not have - whoops)"
   ]
  },
  {
   "cell_type": "markdown",
   "id": "d439bd08-ac60-4f6a-b3a9-8e74826669f2",
   "metadata": {},
   "source": [
    "#### Diagraming code ####\n",
    "\n",
    "> Talking through the logic of your code\n",
    "\n",
    "> I did this for my assignment and it really helped\n",
    "\n",
    "> There is a specific way to do this "
   ]
  },
  {
   "cell_type": "markdown",
   "id": "ab9305a8-431d-4d49-93f4-8edf98cc6f53",
   "metadata": {},
   "source": [
    "#### Midterm ####\n",
    "> Use whatever, but not AI\n",
    "\n",
    "> Link everything you use (i.e., websites)\n",
    "\n",
    "> Note solutions to problems\n",
    "\n",
    "> Some basics of psychopy"
   ]
  },
  {
   "cell_type": "markdown",
   "id": "ed556fb0-ccbb-4815-8ae3-1a71703a7700",
   "metadata": {},
   "source": [
    "#### Question 1b ####"
   ]
  },
  {
   "cell_type": "markdown",
   "id": "2c32bbdd-6052-4472-acdc-a80acd68b1e4",
   "metadata": {},
   "source": [
    "> **Logic:** Read in data, read data, calculate SD/M, find limits, find outliers, check to see if there were outliers (i.e., no -stop, yes - go back and do it again). "
   ]
  },
  {
   "cell_type": "code",
   "execution_count": 22,
   "id": "37fee66f-54ac-4dfe-8540-92728164280c",
   "metadata": {},
   "outputs": [],
   "source": [
    "import random\n",
    "\n",
    "import numpy as np\n",
    "\n",
    "data = [random.normalvariate(0.7,0.2) for i in range(100)]   # creating list of values (more efficient than what I did as well) \n",
    "\n",
    "threshold = 2.5      # define the cutoff threshold\n",
    "\n",
    "def trimmedMeans(data, threshold):   # creating a function to trim values\n",
    "\n",
    "    while True:  # creating a while loop\n",
    "    \n",
    "        cleanedData = []     # creating an empty list for the clean data\n",
    "    \n",
    "        mean = statistics.mean(data)     # calculating mean\n",
    "        sd = statistics.stdev(data)      # calculating SD\n",
    "    \n",
    "        data = np.array(data)            # creating a numpy array for our data variable\n",
    "    \n",
    "        uLimit = mean + threshold * sd   # calculating upper limit\n",
    "        lLimit = mean + threshold * sd   # calculating lower limit\n",
    "    \n",
    "    # cleanedData = [value for value in data if lLimit <= value >= uLimit]    # Removing outliers in a loop\n",
    "                                                                              # More efficient than what I originally did\n",
    "    \n",
    "        cleanedData = data[(data<uLimit) & (data>lLimit)]    # Removing outliers in numpy slicing\n",
    "                                                             # Looking at the whole array all at once (this is not a loop)\n",
    "    \n",
    "        if len(cleanedData) == len(data):\n",
    "            break\n",
    "            \n",
    "        else: \n",
    "            data = cleanedData\n",
    "\n",
    "        return cleanedData\n",
    "\n",
    "newData = trimmedMeans(data,threshold)"
   ]
  },
  {
   "cell_type": "markdown",
   "id": "7d66b9a2-ba3c-4ff2-963a-3ae6f1f99c44",
   "metadata": {},
   "source": [
    "#### Question 2 ####"
   ]
  },
  {
   "cell_type": "code",
   "execution_count": 27,
   "id": "fb1ccce2-24ba-4e45-b6c5-24f388e750ea",
   "metadata": {},
   "outputs": [],
   "source": [
    "import numpy as np\n",
    "import random \n",
    "\n",
    "names = [\"Alyssa\", \"Rosa\", \"Christine\", \"Holly\", \"Joel\", \"Mimi\"]\n",
    "\n",
    "grades = np.random.randint(71,90,6) \n",
    "\n",
    "all = [[\"Alyssa\",88],[\"Rosa\",90]]    # A list of lists"
   ]
  },
  {
   "cell_type": "code",
   "execution_count": 28,
   "id": "38273ba4-2b16-447a-8c68-702e35809329",
   "metadata": {},
   "outputs": [
    {
     "data": {
      "text/plain": [
       "[['Alyssa', 88], ['Rosa', 90]]"
      ]
     },
     "execution_count": 28,
     "metadata": {},
     "output_type": "execute_result"
    }
   ],
   "source": [
    "all"
   ]
  },
  {
   "cell_type": "code",
   "execution_count": 31,
   "id": "dc4331c9-4176-4857-bb43-c05b87bda718",
   "metadata": {},
   "outputs": [
    {
     "data": {
      "text/plain": [
       "'Alyssa'"
      ]
     },
     "execution_count": 31,
     "metadata": {},
     "output_type": "execute_result"
    }
   ],
   "source": [
    "all[0][0]"
   ]
  },
  {
   "cell_type": "code",
   "execution_count": 32,
   "id": "0863bddd-53ca-4813-bcd3-0b6b6e4000c5",
   "metadata": {},
   "outputs": [
    {
     "data": {
      "text/plain": [
       "88"
      ]
     },
     "execution_count": 32,
     "metadata": {},
     "output_type": "execute_result"
    }
   ],
   "source": [
    "all[0][1]"
   ]
  },
  {
   "cell_type": "code",
   "execution_count": 33,
   "id": "f4c07f48-546c-4006-99f1-9602689bba81",
   "metadata": {},
   "outputs": [
    {
     "data": {
      "text/plain": [
       "'Rosa'"
      ]
     },
     "execution_count": 33,
     "metadata": {},
     "output_type": "execute_result"
    }
   ],
   "source": [
    "all[1][0]"
   ]
  },
  {
   "cell_type": "code",
   "execution_count": 34,
   "id": "8a8f59d4-d4d5-42dd-a2b6-9a8df7e4179f",
   "metadata": {},
   "outputs": [
    {
     "data": {
      "text/plain": [
       "90"
      ]
     },
     "execution_count": 34,
     "metadata": {},
     "output_type": "execute_result"
    }
   ],
   "source": [
    "all[1][1]"
   ]
  },
  {
   "cell_type": "code",
   "execution_count": 35,
   "id": "b4ffbfd6-1a5d-49db-923c-c197dce5a624",
   "metadata": {},
   "outputs": [
    {
     "data": {
      "text/plain": [
       "4"
      ]
     },
     "execution_count": 35,
     "metadata": {},
     "output_type": "execute_result"
    }
   ],
   "source": [
    "names.index(\"Joel\")"
   ]
  },
  {
   "cell_type": "code",
   "execution_count": 39,
   "id": "ad490f65-9952-44c5-b205-4963e8b098c5",
   "metadata": {},
   "outputs": [
    {
     "name": "stdin",
     "output_type": "stream",
     "text": [
      "Please enter a name: Alyssa\n"
     ]
    },
    {
     "name": "stdout",
     "output_type": "stream",
     "text": [
      "Alyssas grade is:87\n"
     ]
    }
   ],
   "source": [
    "import numpy as np\n",
    "import random \n",
    "\n",
    "names = [\"Alyssa\", \"Rosa\", \"Christine\", \"Holly\", \"Joel\", \"Mimi\"]\n",
    "\n",
    "grades = np.random.randint(71,90,6)\n",
    "\n",
    "\n",
    "inputName = input(\"Please enter a name:\")\n",
    "\n",
    "idx = names.index(inputName)\n",
    "\n",
    "print(names[idx] + \"s grade is:\" + str(grades[idx]))"
   ]
  },
  {
   "cell_type": "markdown",
   "id": "0056d694-ec64-4096-bb8b-f8ecaa93c4f3",
   "metadata": {},
   "source": [
    "### PsychoPy Coding: Basic Experiment ###"
   ]
  },
  {
   "cell_type": "code",
   "execution_count": 41,
   "id": "cb464382-1c49-4989-91c8-0609bf995f51",
   "metadata": {},
   "outputs": [
    {
     "ename": "ModuleNotFoundError",
     "evalue": "No module named 'psychopy'",
     "output_type": "error",
     "traceback": [
      "\u001b[1;31m---------------------------------------------------------------------------\u001b[0m",
      "\u001b[1;31mModuleNotFoundError\u001b[0m                       Traceback (most recent call last)",
      "Cell \u001b[1;32mIn[41], line 1\u001b[0m\n\u001b[1;32m----> 1\u001b[0m \u001b[38;5;28;01mfrom\u001b[39;00m\u001b[38;5;250m \u001b[39m\u001b[38;5;21;01mpsychopy\u001b[39;00m\u001b[38;5;250m \u001b[39m\u001b[38;5;28;01mimport\u001b[39;00m visual, core    \u001b[38;5;66;03m# importing libraries (i.e., in this case the visual and core libraries....there are more)\u001b[39;00m\n\u001b[0;32m      2\u001b[0m win \u001b[38;5;241m=\u001b[39m visual\u001b[38;5;241m.\u001b[39mWindow([\u001b[38;5;241m400\u001b[39m,\u001b[38;5;241m400\u001b[39m])       \u001b[38;5;66;03m# creating a window from visual.window library (i.e., and sizing the pixels)\u001b[39;00m\n\u001b[0;32m      3\u001b[0m message \u001b[38;5;241m=\u001b[39m visual\u001b[38;5;241m.\u001b[39mTextStim(win, text\u001b[38;5;241m=\u001b[39m\u001b[38;5;124m'\u001b[39m\u001b[38;5;124mhello\u001b[39m\u001b[38;5;124m'\u001b[39m, pos \u001b[38;5;241m=\u001b[39m (\u001b[38;5;241m0\u001b[39m,\u001b[38;5;241m0\u001b[39m))  \u001b[38;5;66;03m# message is an instance of a class\u001b[39;00m\n",
      "\u001b[1;31mModuleNotFoundError\u001b[0m: No module named 'psychopy'"
     ]
    }
   ],
   "source": [
    "from psychopy import visual, core    # importing libraries (i.e., in this case the visual and core libraries....there are more)\n",
    "win = visual.Window([400,400])       # creating a window from visual.window library (i.e., and sizing the pixels)\n",
    "message = visual.TextStim(win, text='hello', pos = (0,0))  # message is an instance of a class\n",
    "                                              # text 'hello' on the screen in the window created (assigned it \"message\" and passed it parameters)\n",
    "\n",
    "message2 = visual.TextStim(win, text='world', pos=(-0.5,-0.5))  # Another instance \n",
    "\n",
    "message.autoDraw = True   \n",
    "\n",
    "timer = core.clock()  # Timer is an instance of a clock\n",
    "\n",
    "x = 0.0\n",
    "y = 0.0 \n",
    "\n",
    "startTime = timer.getTiime()   # What is the current time\n",
    "\n",
    "while timer.getTime() - startTime < 2.0:    # while the current time - the start time is less than 2 seconds\n",
    "    x += 0.01\n",
    "    y += 0.01\n",
    "    message.pos = (x,y)\n",
    "    message.draw()\n",
    "    win.flip()                       "
   ]
  },
  {
   "cell_type": "code",
   "execution_count": null,
   "id": "86a50728-e3d7-4787-a23e-e054b979412d",
   "metadata": {},
   "outputs": [],
   "source": [
    "from psychopy import visual, core, event    \n",
    "win = visual.Window([400,400])       \n",
    "message = visual.TextStim(win, text='hello', pos = (0,0))  \n",
    "\n",
    "timer = core.clock()  \n",
    "mouse = event.Mouse(visible=True)\n",
    "\n",
    "x = 0.0\n",
    "y = 0.0 \n",
    "\n",
    "startTime = timer.getTime()   \n",
    "\n",
    "while timer.getTime() - startTime < 20.0:    \n",
    "    x = mouse.getPos()[0]  # calling the method get position (first element = 0 - indexing)(x coordinate)\n",
    "    y = mouse.getPos()[1]  # same here but for the y coordinate\n",
    "    message.pos = (x,y)\n",
    "    message.draw()\n",
    "    win.flip()              "
   ]
  }
 ],
 "metadata": {
  "kernelspec": {
   "display_name": "Python 3 (ipykernel)",
   "language": "python",
   "name": "python3"
  },
  "language_info": {
   "codemirror_mode": {
    "name": "ipython",
    "version": 3
   },
   "file_extension": ".py",
   "mimetype": "text/x-python",
   "name": "python",
   "nbconvert_exporter": "python",
   "pygments_lexer": "ipython3",
   "version": "3.13.5"
  }
 },
 "nbformat": 4,
 "nbformat_minor": 5
}
