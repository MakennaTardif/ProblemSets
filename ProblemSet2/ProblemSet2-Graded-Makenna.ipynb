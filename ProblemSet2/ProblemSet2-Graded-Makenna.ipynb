{
 "cells": [
  {
   "cell_type": "markdown",
   "id": "6a5456ba",
   "metadata": {},
   "source": [
    "# PSYC 5P02- Introduction to Programming for Psychology\n",
    "## Fall 2025\n",
    "\n",
    "### Problem Set #2 - Grading Rubric\n",
    "\n",
    "### Assigned September 25 - Due October 2\n",
    "### Late Penalty: 5%/day\n",
    "\n",
    "\n",
    "### Rubric:\n",
    "* Accuracy & Efficiency: 50%\n",
    "* Explaination and documentation: 50%\n",
    "\n",
    "---"
   ]
  },
  {
   "cell_type": "markdown",
   "id": "7eda2849",
   "metadata": {},
   "source": [
    "**Question 1:**\n",
    "\n",
    "_(a)_ Generate 100 normally distributed values with a mean of 0.7 and a standard deviation of .2. (/2)"
   ]
  },
  {
   "cell_type": "code",
   "execution_count": 1,
   "id": "92543f2e",
   "metadata": {},
   "outputs": [
    {
     "name": "stdout",
     "output_type": "stream",
     "text": [
      "[0.75534501521423, 0.6832054570048711, 0.7021827693620225, 0.5938830620334906, 0.7593359505061389, 0.5514681072912908, 1.006228412194688, 1.0651573141453592, 0.6925017577138479, 0.49672489578961637, 0.5782920106770474, 0.6157809302974369, 0.6994703885334674, 0.8354659585058447, 0.534191721646343, 1.1024644986087213, 0.13592348594674308, 0.9515075258479577, 1.0193246262660214, 0.9280166788831394, 0.523632134413773, 0.7405977427124922, 0.971191851039342, 0.9697340036548336, 0.894652965586349, 0.6360641945429495, 0.8730214557993174, 0.6196457572890873, 0.6165985632647463, 0.5047750873344252, 0.7605080462530722, 0.6519931886375768, 0.6589641558659808, 0.5820306550629678, 0.9476696926452481, 0.7748373750841198, 0.5964775473274065, 0.6780104019484661, 0.7417521563292888, 1.04149952159998, 0.7505076509011198, 0.8598149660688092, 0.3423626503031279, 0.6835146503528078, 0.5948350357713501, 0.7167233624363557, 0.47758587362366944, 0.7587727777927956, 0.731425174572654, 0.8340874043041049, 0.6625943620649763, 0.5258280409240215, 0.8218931161403717, 0.9120869013126894, 0.9431135637793382, 0.7496934293569353, 1.1260713564398603, 0.8328867790719783, 0.9524635872857886, 0.6984834659182014, 0.888040005096282, 1.1071595968572896, 0.5440416768121126, 0.9793392636437457, 0.6339280997236553, 0.8323512797100374, 0.5595649074738214, 0.6011014135143832, 0.44338644689560364, 0.7295151877080696, 0.5231922873589684, 0.829107892731566, 0.7176577229536065, 0.9060415664560928, 1.1748687534670388, 0.6587965516711779, 0.5605897784090743, 0.4113939502975953, 0.8119022868891035, 1.145459909066919, 0.9563483915905272, 0.544728706839387, 0.7198912978575587, 1.0865494166173062, 0.8301993283489324, 0.7742803335899247, 0.6411277578749074, 0.7786770892128576, 0.6988109910406535, 0.9286908949611709, 0.75072192715052, 0.9443879033317961, 0.7188485116912176, 0.5610595939187633, 0.8269136218897767, 0.7974210538544926, 0.3806009886028573, 0.6261407494245903, 0.9095817526452883, 1.1209976676936635]\n"
     ]
    }
   ],
   "source": [
    "import random           # Needed to import the random library (i.e., because I want to generate random values, without typing them in by hand). \n",
    "\n",
    "NormalValues = []       # Created an empty list where my values would append later on\n",
    "\n",
    "for i in range(100):    # This runs the code 100 times (i.e., repeat the next block 100 times). \n",
    "                        # The range(100) produces the sequence of numbers.\n",
    "                        # The variable i takes on each of those values in turn (but in this case, i isn’t actually used inside the loop).\n",
    "    \n",
    "    NormalValues.append(random.normalvariate(0.7,0.2))    # The *random.normalvariate* function generates a random floating-point number from a normal distribution.\n",
    "                                                          # The *NormalValues.append* appends each generated value to the NormalValues list I created.\n",
    "                 \n",
    "print(NormalValues)     # Lists/prints all 100 values I asked for with the above code (i.e., see below)."
   ]
  },
  {
   "cell_type": "markdown",
   "id": "19131ca5",
   "metadata": {},
   "source": [
    "**Comments:**\n",
    "- good work. Works as expected. Could also use this fun code: `random_numbers = [random.normalvariate(mu, sigma) for _ in range(100)]`\n",
    "- Code 2/2, documentation 2/2 **4/4**"
   ]
  },
  {
   "cell_type": "markdown",
   "id": "a13e5e64",
   "metadata": {},
   "source": [
    "_(b)_ Create a function that calculates the mean and standard deviation some list of values, and remove any values that exceed 2.5 SDs of the mean, recursively, until there are no outliers to remove. **Note:** The numbers to be trimmed should be an argument passed to the function. (/10)"
   ]
  },
  {
   "cell_type": "code",
   "execution_count": 2,
   "id": "53883e5e",
   "metadata": {},
   "outputs": [],
   "source": [
    "import statistics     # Import statistics library so I can compute mean and standard deviation \n",
    "                      # This allows me to use basic statistical analyses (i.e., measures of central tendency, measures of spread, etc).  \n",
    "                      # I could have also accomplished the same thing using the numpy library, but statistics at the time seemed more intuitive \n",
    "                      # All I did here was search up what library would be best for calculating means and standard deviations, and both popped up as options.\n",
    "\n",
    "values = list(NormalValues)   # This is a copy of my 100 random values I generated\n",
    "                              # This may be unnecessary, but I did not want to mess with the NormalValues list I created above. \n",
    "                              # But this is the same list (just a different name - values instead of normal values)\n",
    "\n",
    "def trim_outliers(values, threshold=2.5):  # This defines my function, I am calling \"trim_outliers\" (I am using a more descriptive title here)\n",
    "                                           # The values list is what I want to clean/trim (i.e., what I want to pass into the function). \n",
    "                                           # The \"threshold\" and value associated with it - is what I will allow (i.e., 2.5 standard deviations).\n",
    "                                           # I could change the threshold to 2 if I want to be more conservative or 3 if I want to be more stringent.\n",
    "                                           # I do not think I need to define the threshold here (i.e., I could type 2.5 into the upper and lower bounds).\n",
    "    \n",
    "    while True:               # I need this here so the code repeats until there are no outliers (i.e., infinite loop until \n",
    "                              # Everything below needs to be inside this while true loop\n",
    "    \n",
    "        mean_val = statistics.mean(values)      # I first need to calculate the mean of the original list of values\n",
    "        sd_val = statistics.stdev(values)       # I then need to calculate the standard deviation of the original data list (i.e., spread of the data).\n",
    "                                                # The next step would be for me to define my upper and lower limits (i.e., basis for deciding if a value is too far away from the mean)\n",
    "\n",
    "        lower_bound = mean_val - threshold * sd_val   # Any number below this would be considered an outlier\n",
    "        upper_bound = mean_val + threshold * sd_val   # Any number above this would be considered an outlier\n",
    "                                                      # These provide me with an acceptable range of values \n",
    "                                                          # Lower_bound cutoff = 0.7 – (2.5*0.2) \n",
    "                                                          # Upper_bound cutoof = 0.7 + (2.5*0.2)\n",
    "\n",
    "        filtered = []                  # Next, I want to create a new empty list that would hold the filtered values without the outliers\n",
    "    \n",
    "        for x in values:                            # This code goes through each number in the values list\n",
    "            if lower_bound <= x <= upper_bound:     # Keep a value ONLY if it’s inside the cutoff range I specified above\n",
    "                                                    # Anything below or equal to the lower_bound or above or equal to the upper_bound gets trimmed\n",
    "            \n",
    "                filtered.append(x)          # This appends the filtered values to the new list called \"filtered\".\n",
    "\n",
    "        if len(filtered) == len(values):    # If the list length of filtered and values are the same, no outliers were removed\n",
    "            break                               # Then break the loop, and we’re done\n",
    "    \n",
    "        else:\n",
    "            values = filtered               # I need an else statement here, but why?\n",
    "                                            # This says that, otherwise, update the list and keep checking again (i.e., check for more outliers).\n",
    "                                            # (values = filtered) For the next round of the loop, forget about the old list and use the filtered list that has the outliers removed.\n",
    "    \n",
    "    return values, mean_val, sd_val         # This returns the final trimmed data and statistics I asked for (i.e., the mean and standard deviation)"
   ]
  },
  {
   "cell_type": "markdown",
   "id": "45a6b3d1",
   "metadata": {},
   "source": [
    "**Comments:**\n",
    "- Looks good. Clean and efficient. \n",
    "- Rather than looping through each value in the list, you could try to index the locations of outliers, similar to: ``cleaned_data = data[(data < sd_cut_above) & (data > sd_cut_below)]``\n",
    "- code: 5/5, documentation 5/5, **total: 10/10**"
   ]
  },
  {
   "cell_type": "markdown",
   "id": "137f3b2c",
   "metadata": {},
   "source": [
    "_(c)_ Apply the function created in _(b)_ to the the list of 100 numbers you generated in _(a)_. Produce the mean, SD, and number of outliers removed by the procedure. (/4)"
   ]
  },
  {
   "cell_type": "code",
   "execution_count": 3,
   "id": "a835e011",
   "metadata": {},
   "outputs": [
    {
     "name": "stdout",
     "output_type": "stream",
     "text": [
      "Original list length: 100\n",
      "Filtered list length: 99\n",
      "Number of outliers: 1\n",
      "Filtered list: [0.75534501521423, 0.6832054570048711, 0.7021827693620225, 0.5938830620334906, 0.7593359505061389, 0.5514681072912908, 1.006228412194688, 1.0651573141453592, 0.6925017577138479, 0.49672489578961637, 0.5782920106770474, 0.6157809302974369, 0.6994703885334674, 0.8354659585058447, 0.534191721646343, 1.1024644986087213, 0.9515075258479577, 1.0193246262660214, 0.9280166788831394, 0.523632134413773, 0.7405977427124922, 0.971191851039342, 0.9697340036548336, 0.894652965586349, 0.6360641945429495, 0.8730214557993174, 0.6196457572890873, 0.6165985632647463, 0.5047750873344252, 0.7605080462530722, 0.6519931886375768, 0.6589641558659808, 0.5820306550629678, 0.9476696926452481, 0.7748373750841198, 0.5964775473274065, 0.6780104019484661, 0.7417521563292888, 1.04149952159998, 0.7505076509011198, 0.8598149660688092, 0.3423626503031279, 0.6835146503528078, 0.5948350357713501, 0.7167233624363557, 0.47758587362366944, 0.7587727777927956, 0.731425174572654, 0.8340874043041049, 0.6625943620649763, 0.5258280409240215, 0.8218931161403717, 0.9120869013126894, 0.9431135637793382, 0.7496934293569353, 1.1260713564398603, 0.8328867790719783, 0.9524635872857886, 0.6984834659182014, 0.888040005096282, 1.1071595968572896, 0.5440416768121126, 0.9793392636437457, 0.6339280997236553, 0.8323512797100374, 0.5595649074738214, 0.6011014135143832, 0.44338644689560364, 0.7295151877080696, 0.5231922873589684, 0.829107892731566, 0.7176577229536065, 0.9060415664560928, 1.1748687534670388, 0.6587965516711779, 0.5605897784090743, 0.4113939502975953, 0.8119022868891035, 1.145459909066919, 0.9563483915905272, 0.544728706839387, 0.7198912978575587, 1.0865494166173062, 0.8301993283489324, 0.7742803335899247, 0.6411277578749074, 0.7786770892128576, 0.6988109910406535, 0.9286908949611709, 0.75072192715052, 0.9443879033317961, 0.7188485116912176, 0.5610595939187633, 0.8269136218897767, 0.7974210538544926, 0.3806009886028573, 0.6261407494245903, 0.9095817526452883, 1.1209976676936635]\n",
      "Final mean: 0.7573976189919823\n",
      "Final SD: 0.18678415067674892\n"
     ]
    }
   ],
   "source": [
    "filtered, mean_val, sd_val = trim_outliers(NormalValues)    # Calls the function I created above\n",
    "                                                            # Will return: length of the original list, cleaned list, # of outliers, final mean, and SD\n",
    "\n",
    "print(\"Original list length:\", len(values))                # Prints the size of the original list (should be 100 if NormalValues has 100 numbers)\n",
    "print(\"Filtered list length:\", len(filtered))              # Prints the size of the cleaned list (will be smaller if outliers were removed)\n",
    "print(\"Number of outliers:\", len(values) - len(filtered))  # Prints how many outliers were trimmed (difference between original and cleaned sizes)\n",
    "print(\"Filtered list:\", filtered)                          # Prints the actual values left after outliers are removed\n",
    "print(\"Final mean:\", mean_val)                             # Prints the final mean of the cleaned list\n",
    "print(\"Final SD:\", sd_val)                                 # Prints the final standard deviation of the cleaned list"
   ]
  },
  {
   "cell_type": "markdown",
   "id": "384e9f27",
   "metadata": {},
   "source": [
    "**comments:**\n",
    "- Good!\n",
    "- code: 2/2, documentation: 2/2 **total: 4/4**\n",
    "\n",
    "**Question 1 total: 18/18**"
   ]
  },
  {
   "cell_type": "markdown",
   "id": "a138ffb4",
   "metadata": {},
   "source": [
    "**Question 2:** \n",
    "\n",
    "*(a)* Create a list with 10 names of hypothetical students (use only lists for now). Create a second list of 10 theoretical grades between 76 and 100. Assume the order of the grades is the same order of the list of names."
   ]
  },
  {
   "cell_type": "code",
   "execution_count": 4,
   "id": "2e193c8a",
   "metadata": {},
   "outputs": [],
   "source": [
    "Students = [\"Fred\", \"Jeff\", \"Mary\", \"Suzie\", \"Linda\", \"Bob\", \"Dave\", \"Karen\", \"Cathy\", \"Jessie\"]  # I created a list of hypothetical student names\n",
    "Grades = [77, 81, 93, 79, 84, 91, 95, 76, 82, 99]       # I created a list of theoretical grades for the students listed above\n",
    "                                                        # No quotes because these are integers\n",
    "\n"
   ]
  },
  {
   "cell_type": "markdown",
   "id": "f4bb550e",
   "metadata": {},
   "source": [
    "**Commnents:**\n",
    "- Why not create the grades using the randomization functions? \n",
    "- code 1/2, documentation 2/2. **total: 3/4**"
   ]
  },
  {
   "cell_type": "markdown",
   "id": "4dadfce7",
   "metadata": {},
   "source": [
    "*(b)* Write a script that loops through each of the students, and then return's their letter grade based on this convention:\n",
    "\n",
    "* A+: >=90\n",
    "* 85 >= A <90\n",
    "* 80 >= A- <85\n",
    "* 76 >= B+ < 80\n",
    "\n",
    "(/6)"
   ]
  },
  {
   "cell_type": "code",
   "execution_count": 5,
   "id": "108fa11a",
   "metadata": {},
   "outputs": [
    {
     "ename": "NameError",
     "evalue": "name 'students' is not defined",
     "output_type": "error",
     "traceback": [
      "\u001b[0;31m---------------------------------------------------------------------------\u001b[0m",
      "\u001b[0;31mNameError\u001b[0m                                 Traceback (most recent call last)",
      "\u001b[0;32m<ipython-input-5-102683701da7>\u001b[0m in \u001b[0;36m<module>\u001b[0;34m\u001b[0m\n\u001b[1;32m      8\u001b[0m \u001b[0;31m# Now, I need to loop through each student and assign them their letter grade (i.e., use if/elif/else)\u001b[0m\u001b[0;34m\u001b[0m\u001b[0;34m\u001b[0m\u001b[0;34m\u001b[0m\u001b[0m\n\u001b[1;32m      9\u001b[0m \u001b[0;34m\u001b[0m\u001b[0m\n\u001b[0;32m---> 10\u001b[0;31m \u001b[0;32mfor\u001b[0m \u001b[0mStudentName\u001b[0m\u001b[0;34m,\u001b[0m \u001b[0mStudentGrade\u001b[0m \u001b[0;32min\u001b[0m \u001b[0mzip\u001b[0m\u001b[0;34m(\u001b[0m\u001b[0mstudents\u001b[0m\u001b[0;34m,\u001b[0m \u001b[0mgrades\u001b[0m\u001b[0;34m)\u001b[0m\u001b[0;34m:\u001b[0m   \u001b[0;31m# The zip() function again pairs up the elements of two lists so that the first student matches the first grade,\u001b[0m\u001b[0;34m\u001b[0m\u001b[0;34m\u001b[0m\u001b[0m\n\u001b[0m\u001b[1;32m     11\u001b[0m                                                           \u001b[0;31m# Then, the second student matches the second grade, and so on until the lists are finished.\u001b[0m\u001b[0;34m\u001b[0m\u001b[0;34m\u001b[0m\u001b[0;34m\u001b[0m\u001b[0m\n\u001b[1;32m     12\u001b[0m                                                                \u001b[0;31m# Makes sure that the order of the student names matches the order of the grades\u001b[0m\u001b[0;34m\u001b[0m\u001b[0;34m\u001b[0m\u001b[0;34m\u001b[0m\u001b[0m\n",
      "\u001b[0;31mNameError\u001b[0m: name 'students' is not defined"
     ]
    }
   ],
   "source": [
    "# First, I need to define the lists like I did above (i.e., in question 2a) \n",
    "\n",
    "Students = [\"Fred\", \"Jeff\", \"Mary\", \"Suzie\", \"Linda\",      \n",
    "            \"Bob\", \"Dave\", \"Karen\", \"Cathy\", \"Jessie\"]\n",
    "\n",
    "Grades = [77, 81, 93, 79, 84, 91, 95, 76, 82, 99]\n",
    "\n",
    "# Now, I need to loop through each student and assign them their letter grade (i.e., use if/elif/else)  \n",
    "\n",
    "for StudentName, StudentGrade in zip(students, grades):   # The zip() function again pairs up the elements of two lists so that the first student matches the first grade,\n",
    "                                                          # Then, the second student matches the second grade, and so on until the lists are finished.\n",
    "                                                               # Makes sure that the order of the student names matches the order of the grades\n",
    "                                                               # You said to assume that they matched, but this ensures that they do. \n",
    "                                                          # Both lists include 10 things, so it will stop at 10.\n",
    "    \n",
    "    if StudentGrade >= 90:      # If the student grade is 90 or higher, assign the student an A+\n",
    "        letter = \"A+\"\n",
    "    elif StudentGrade >= 85:    # Else if the student grade is between 85 and 89, assign the student an A\n",
    "        letter = \"A\"\n",
    "    elif StudentGrade >= 80:    # Else if the student grade is between 80 and 84, assign the student an A-\n",
    "        letter = \"A-\"\n",
    "    elif StudentGrade >= 76:    # Else if the student grade is between 76 and 79, assign the student a B+\n",
    "        letter = \"B+\"\n",
    "    else:\n",
    "        letter = \"Below B+\"    # Anything below 76 would fall into the \"else\" case, but this will not occur because our grades are all 76–100.\n",
    "    \n",
    "# Lastly, I would want to print the students' names with their letter grades\n",
    "    \n",
    "    print(f\"{StudentName} has a {letter}.\")   # This prints a statement with the {student's name}, followed by \"has a\" and then their {letter grade}."
   ]
  },
  {
   "cell_type": "markdown",
   "id": "9dc46994",
   "metadata": {},
   "source": [
    "**Comments:**\n",
    "- Elegant code, HOWEVER, it doesn't actually run! The script is calling for 'students' and 'grades' but you defined them as 'Students' and 'Grades'\n",
    "- code: 2/3, documentation: 3/3, **total: 5/6**\n",
    "\n",
    "**Question 2 total: 8/10**"
   ]
  },
  {
   "cell_type": "markdown",
   "id": "c13480ea",
   "metadata": {},
   "source": [
    "**Question 3:**\tWrite a function called ‘gradeLookup’ that takes, as an input from the user, a student’s name. Then  look up the info based on Question 2, and write to the command window the student’s name, numerical grade, and letter grade. \n",
    "\n",
    "**Bonus:** Can you figure out a way to ensure that the name entered is one that exists in the list?? "
   ]
  },
  {
   "cell_type": "code",
   "execution_count": 6,
   "id": "b1fc8654",
   "metadata": {},
   "outputs": [],
   "source": [
    "# Again, I need to define student names and their numeric grades in lists\n",
    "\n",
    "Students = [\"Fred\", \"Jeff\", \"Mary\", \"Suzie\", \"Linda\", \n",
    "            \"Bob\", \"Dave\", \"Karen\", \"Cathy\", \"Jessie\"]\n",
    "\n",
    "Grades = [77, 81, 93, 79, 84, 91, 95, 76, 82, 99]\n",
    "\n",
    "#Next, I need to define a function that will allow me to enter a name, loop through the grading conventions, and output their numeric and letter grade\n",
    "\n",
    "def gradeLookup():                              # Here, I defined a function called \"Grade lookup\" (again, I used a more descriptive title/name)\n",
    "    name = input(\"Enter a student's name:\")     # First, ask the user to enter/input a student's name (i.e., this will allow you to enter a specific name).\n",
    "    \n",
    "    if name in students:                        # This then checks if the name is in the student list\n",
    "        index = Students.index(name)            # Find the index (i.e., the position) of that student in the list (e.g., Fred would be 0)\n",
    "        StudentGrade = Grades[index]            # Use that index/position to retrieve their numeric grade\n",
    "\n",
    "        if StudentGrade >= 90:                  # Using the conventions I used in the previous question, I can determine the letter grade using the if/elif/else\n",
    "                                                # Copy and pasted from the question above\n",
    "            letter = \"A+\"\n",
    "        elif StudentGrade >= 85:\n",
    "            letter = \"A\"\n",
    "        elif StudentGrade >= 80:\n",
    "            letter = \"A-\"\n",
    "        elif StudentGrade >= 76:\n",
    "            letter = \"B+\"\n",
    "        else:\n",
    "            letter = \"Below B+\"                # This inner else - Student exists in the list, but their grade is below B+\n",
    "        \n",
    "        print(f\"{name} has a numeric grade of {StudentGrade}, which is an {letter}.\")   \n",
    "            # Prints the {student's name}, followed by \"has a numeric grade of\", {insert grade}, followed by \"which is\", {insert letter grade}. \n",
    "  \n",
    "    else:\n",
    "        print(f\"{name} is not in the student list.\")        # If the name I enter is not in the list, it will let me know.\n",
    "                                                            # It will tell me that the person is not in the student list I created\n",
    "                                                            # This outer else - Student does not exist in the list, and therefore would not have a grade.\n",
    "                                                            # This took me a while to figure out. I knew I was nesting, but this final else apparently was not as intuitive for me"
   ]
  },
  {
   "cell_type": "code",
   "execution_count": 7,
   "id": "65d8d566",
   "metadata": {},
   "outputs": [
    {
     "name": "stdout",
     "output_type": "stream",
     "text": [
      "Enter a student's name:Fred\n"
     ]
    },
    {
     "ename": "NameError",
     "evalue": "name 'students' is not defined",
     "output_type": "error",
     "traceback": [
      "\u001b[0;31m---------------------------------------------------------------------------\u001b[0m",
      "\u001b[0;31mNameError\u001b[0m                                 Traceback (most recent call last)",
      "\u001b[0;32m<ipython-input-7-8ba686da2828>\u001b[0m in \u001b[0;36m<module>\u001b[0;34m\u001b[0m\n\u001b[0;32m----> 1\u001b[0;31m \u001b[0mgradeLookup\u001b[0m\u001b[0;34m(\u001b[0m\u001b[0;34m)\u001b[0m     \u001b[0;31m# I had to call the function I had created above, and then enter a student name.\u001b[0m\u001b[0;34m\u001b[0m\u001b[0;34m\u001b[0m\u001b[0m\n\u001b[0m",
      "\u001b[0;32m<ipython-input-6-8fb15ca63899>\u001b[0m in \u001b[0;36mgradeLookup\u001b[0;34m()\u001b[0m\n\u001b[1;32m     11\u001b[0m     \u001b[0mname\u001b[0m \u001b[0;34m=\u001b[0m \u001b[0minput\u001b[0m\u001b[0;34m(\u001b[0m\u001b[0;34m\"Enter a student's name:\"\u001b[0m\u001b[0;34m)\u001b[0m     \u001b[0;31m# First, ask the user to enter/input a student's name (i.e., this will allow you to enter a specific name).\u001b[0m\u001b[0;34m\u001b[0m\u001b[0;34m\u001b[0m\u001b[0m\n\u001b[1;32m     12\u001b[0m \u001b[0;34m\u001b[0m\u001b[0m\n\u001b[0;32m---> 13\u001b[0;31m     \u001b[0;32mif\u001b[0m \u001b[0mname\u001b[0m \u001b[0;32min\u001b[0m \u001b[0mstudents\u001b[0m\u001b[0;34m:\u001b[0m                        \u001b[0;31m# This then checks if the name is in the student list\u001b[0m\u001b[0;34m\u001b[0m\u001b[0;34m\u001b[0m\u001b[0m\n\u001b[0m\u001b[1;32m     14\u001b[0m         \u001b[0mindex\u001b[0m \u001b[0;34m=\u001b[0m \u001b[0mStudents\u001b[0m\u001b[0;34m.\u001b[0m\u001b[0mindex\u001b[0m\u001b[0;34m(\u001b[0m\u001b[0mname\u001b[0m\u001b[0;34m)\u001b[0m            \u001b[0;31m# Find the index (i.e., the position) of that student in the list (e.g., Fred would be 0)\u001b[0m\u001b[0;34m\u001b[0m\u001b[0;34m\u001b[0m\u001b[0m\n\u001b[1;32m     15\u001b[0m         \u001b[0mStudentGrade\u001b[0m \u001b[0;34m=\u001b[0m \u001b[0mGrades\u001b[0m\u001b[0;34m[\u001b[0m\u001b[0mindex\u001b[0m\u001b[0;34m]\u001b[0m            \u001b[0;31m# Use that index/position to retrieve their numeric grade\u001b[0m\u001b[0;34m\u001b[0m\u001b[0;34m\u001b[0m\u001b[0m\n",
      "\u001b[0;31mNameError\u001b[0m: name 'students' is not defined"
     ]
    }
   ],
   "source": [
    "gradeLookup()     # I had to call the function I had created above, and then enter a student name.\n"
   ]
  },
  {
   "cell_type": "markdown",
   "id": "f2824cb7",
   "metadata": {},
   "source": [
    "**Comments:**\n",
    "- Fails again!\n",
    "- I really like your solution of indexing the name. That's what I wanted. BUT the function itself doesn't actually call for a list. It assumes the existence of the variables _students_, _Students_ and _Grades_. (You're also using both _students_ and _Students_) \n",
    "- the check works (or would if the code ran) but is there a way to loop it to give people a second try?\n",
    "- code: 1.5/3, documentation: 3/3, **total: 4.5/6**"
   ]
  },
  {
   "cell_type": "markdown",
   "id": "a90071a5",
   "metadata": {},
   "source": [
    "**Question 4:** Write a Python class called PersonalityProfile that stores a participant’s scores on each of the Big Five traits (Openness, Conscientiousness, Agreeableness, Extraversion, Neuroticism) on a scale from 1–5.\n",
    "\n",
    "Your class should include:\n",
    "\n",
    "An \\_\\_init\\_\\_ method that initializes the five traits, as well as the participant number.\n",
    "\n",
    "A method _is_introvert()_ that returns True if the participant’s Extraversion score is less than 3, and False otherwise (feel free to make a similar method for all 5 traits).\n",
    "\n",
    "**Bonus:** Create a method called _summary()_ that returns a string describing the participant’s strongest trait (the one with the highest score).\n"
   ]
  },
  {
   "cell_type": "code",
   "execution_count": 8,
   "id": "6f5bf20e",
   "metadata": {},
   "outputs": [],
   "source": [
    "class PersonalityProfile:\n",
    "    def __init__(self, participant_number, openness, conscientiousness, agreeableness, extraversion, neuroticism):\n",
    "                 # The init_method automatically runs whenever I create a new PersonalityProfile object\n",
    "                 # This stores/initializes the participant's ID number, and their 5 personality traits.\n",
    "                 # This assumes each trait is on a scale from 1-5.\n",
    "                 # https://www.geeksforgeeks.org/python/__init__-in-python/ (this helped me set things up a bit beyond your class example). \n",
    "                     # self = variable that represents the instance of the object itself (i.e., refers to the current object (always the first parameter)).\n",
    "                     # _init_ with parameters = can pass multiple parameters to set up different attributes (here ID, and the 5 traits). \n",
    "        \n",
    "        # The following are object attributes that store these values.\n",
    "        # This means that every participant object will have a series of values saved inside. \n",
    "        # Example: self.extraversion would just be a number stored in the object.\n",
    "\n",
    "        self.participant_number = participant_number   # Unique ID for the participant     \n",
    "        self.openness = openness                       # Score for Openness (1–5)\n",
    "        self.conscientiousness = conscientiousness     # Score for Conscientiousness (1–5)\n",
    "        self.agreeableness = agreeableness             # Score for Agreeableness (1–5)\n",
    "        self.extraversion = extraversion               # Score for Extraversion (1–5)\n",
    "        self.neuroticism = neuroticism                 # Score for Neuroticism (1–5)\n",
    "\n",
    "    # After defining my class, I should now also define a series of functions inside it (i.e., these would now be methods I believe).\n",
    "    # I used methods with names like \"is_introvert()\" in order to describe what the data means.\n",
    "\n",
    "    def is_introvert(self):            # This returns True if Extraversion < 3 (i.e., meaning that the participant is more introverted)\n",
    "                                       # Otherwise, it would return false (i.e., they are more extroverted). \n",
    "        return self.extraversion < 3\n",
    "\n",
    "    def is_open(self):                 # This returns true if the participant’s Openness score is 3 or above.\n",
    "                                       # Otherwise it would return false (i.e., less open).\n",
    "        return self.openness >= 3\n",
    "\n",
    "    def is_conscientious(self):        # This returns True if Conscientiousness is 3 or above.\n",
    "                                       # Otherwise it would return false (i.e., more unconscientious). \n",
    "        return self.conscientiousness >= 3\n",
    "\n",
    "    def is_agreeable(self):            # This returns True if Agreeableness is 3 or above.\n",
    "                                       # Otherwise it would return false (i.e., less agreeable). \n",
    "        return self.agreeableness >= 3\n",
    "\n",
    "    def is_neurotic(self):             # Returns True if Neuroticism is 3 or above.\n",
    "                                       # Otherwise it would return false \n",
    "        return self.neuroticism >= 3\n",
    "\n",
    "    def __str__(self):        # This nicely formats the participant’s profile when printed\n",
    "                              # The _str_ method would define how the object is displayed when I used print ()\n",
    "                              # This would make the object output look human-readable and nice\n",
    "                              # https://www.pythontutorial.net/python-oop/python-__str__/ \n",
    "      \n",
    "        return (f\"Participant {self.participant_number}:\\n\"           # f is at the start of each line (i.e., each line is a separate string)\n",
    "                f\"Openness = {self.openness}, \"                       # Without an f at the start of each line, everything inside of ( ) won't be evaluated (I made this mistake at first).\n",
    "                f\"Conscientiousness = {self.conscientiousness}, \"     # Would create one long string\n",
    "                f\"Agreeableness = {self.agreeableness}, \"\n",
    "                f\"Extraversion = {self.extraversion}, \"\n",
    "                f\"Neuroticism = {self.neuroticism}\")"
   ]
  },
  {
   "cell_type": "code",
   "execution_count": 9,
   "id": "4caa3a00",
   "metadata": {},
   "outputs": [
    {
     "name": "stdout",
     "output_type": "stream",
     "text": [
      "Participant 1:\n",
      "Openness = 4, Conscientiousness = 5, Agreeableness = 2, Extraversion = 2, Neuroticism = 1\n"
     ]
    }
   ],
   "source": [
    "p1 = PersonalityProfile(1, 4, 5, 2, 2, 1)  # What if I create a participant\n",
    "print(p1)                                  # This will print their ID, and each of the five traits with their associated scores."
   ]
  },
  {
   "cell_type": "markdown",
   "id": "64bbf475",
   "metadata": {},
   "source": [
    "**Comments:**\n",
    "- Good work. Cool use of the ``__str__`` method, I was unaware of that. \n",
    "- code: 4/4, documentation, 4/4, **total: 8/8**"
   ]
  },
  {
   "cell_type": "markdown",
   "id": "1cb77e7c",
   "metadata": {},
   "source": [
    "**Total grade: 34.5/38**"
   ]
  }
 ],
 "metadata": {
  "kernelspec": {
   "display_name": "Python 3",
   "language": "python",
   "name": "python3"
  },
  "language_info": {
   "codemirror_mode": {
    "name": "ipython",
    "version": 3
   },
   "file_extension": ".py",
   "mimetype": "text/x-python",
   "name": "python",
   "nbconvert_exporter": "python",
   "pygments_lexer": "ipython3",
   "version": "3.8.8"
  }
 },
 "nbformat": 4,
 "nbformat_minor": 5
}
