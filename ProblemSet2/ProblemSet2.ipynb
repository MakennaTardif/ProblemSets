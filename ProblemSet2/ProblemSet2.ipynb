{
 "cells": [
  {
   "cell_type": "markdown",
   "id": "186905ba-af0f-4062-ae85-6083330987a3",
   "metadata": {},
   "source": [
    "## Question 1a ##"
   ]
  },
  {
   "cell_type": "code",
   "execution_count": 125,
   "id": "6e10a069-3270-467c-b2f5-4683804a05e4",
   "metadata": {},
   "outputs": [
    {
     "name": "stdout",
     "output_type": "stream",
     "text": [
      "[1.1925887960808288, 0.8830989720532245, 0.8348543452279026, 0.6695589549085204, 1.0635110329825612, 0.4616640285899877, 0.7226662226675111, 0.7646242428877602, 0.6473518933178383, 0.7998104375909731, 0.47763651479245167, 0.9741606074066094, 0.4448612515859942, 0.8234026981647741, 0.682863933553808, 0.7873001229471819, 0.7109628257164569, 1.0571233937729168, 1.0157213962333493, 0.5183405816376099, 0.7742307785860627, 0.5406313719204693, 0.7844125060650236, 0.9995295145260623, 0.7861136589884627, 0.5713403855622922, 0.8161487172193568, 1.3608916233028052, 1.0255051327794138, 1.109572408410901, 1.2542439954803273, 0.8409613475122166, 0.7961137868870194, 1.00193065593587, 0.12251961822011326, 0.2784334131798516, 0.6222078058205861, 0.7527240476613313, 0.8136530678954673, 0.5996537763980626, 0.8455899795643604, 0.75510771315476, 0.4298838388766889, 0.45469312234225245, 0.7133417276263968, 0.8392280185644774, 0.547715257746122, 0.9235466820348516, 0.7101970970567005, 0.5705878808846675, 0.9886909887145696, 0.7043266306347418, 0.5069987231740558, 1.3788326761922316, 0.9133087879276629, 0.7428242115722921, 0.5026450938455418, 0.870242696714869, 0.7105801323906232, 0.5098894460475956, 0.8666070695887371, 0.9878289909848055, 0.6459257809803615, 0.6412914867693105, 0.5320616039385874, 0.39521310920036234, 0.8011707696452698, 0.8763056435735079, 0.9944771659161609, 0.5999483267781149, 0.3752778493828439, 0.7386711764865773, 0.46089451697605044, 0.8303255885306888, 0.4713976877726391, 0.5683625353847975, 0.601827412121224, 0.9630764191954051, 0.6731813238999929, 0.734069126146182, 0.6041523586085904, 0.7952929617853662, 0.7774831811965868, 0.9670917103326953, 0.5794908694124727, 0.764541083511967, 0.8553688217950552, 0.7686246427079695, 0.8805230763781332, 0.6945692890320038, 0.4687145903994544, 0.6913314777521518, 0.864286255776545, 0.20411003307903458, 0.8303054456621505, 0.4093763002215357, 0.6424998800505229, 0.5225230054132302, 0.5937216247465549, 1.012654076761497]\n"
     ]
    }
   ],
   "source": [
    "import random           # Needed to import the random library (i.e., because I want to generate random values, without typing them in by hand). \n",
    "\n",
    "NormalValues = []       # Created an empty list where my values would append later on\n",
    "\n",
    "for i in range(100):    # This runs the code 100 times (i.e., repeat the next block 100 times). \n",
    "                        # The range(100) produces the sequence of numbers.\n",
    "                        # The variable i takes on each of those values in turn (but in this case, i isn’t actually used inside the loop).\n",
    "    \n",
    "    NormalValues.append(random.normalvariate(0.7,0.2))    # The *random.normalvariate* function generates a random floating-point number from a normal distribution.\n",
    "                                                          # The *NormalValues.append* appends each generated value to the NormalValues list I created.\n",
    "                 \n",
    "print(NormalValues)     # Lists/prints all 100 values I asked for with the above code (i.e., see below)."
   ]
  },
  {
   "cell_type": "markdown",
   "id": "0a2584e0-2479-4b1e-ade7-904397eca58a",
   "metadata": {},
   "source": [
    "## Question 1b ##"
   ]
  },
  {
   "cell_type": "code",
   "execution_count": 126,
   "id": "f70e4644-93fb-42ef-8f3e-57f465a75d84",
   "metadata": {},
   "outputs": [],
   "source": [
    "import statistics     # Import statistics library so I can compute mean and standard deviation \n",
    "                      # This allows me to use basic statistical analyses (i.e., measures of central tendency, measures of spread, etc).  \n",
    "                      # I could have also accomplished the same thing using the numpy library, but statistics at the time seemed more intuitive \n",
    "                      # All I did here was search up what library would be best for calculating means and standard deviations, and both popped up as options.\n",
    "\n",
    "values = list(NormalValues)   # This is a copy of my 100 random values I generated\n",
    "                              # This may be unnecessary, but I did not want to mess with the NormalValues list I created above. \n",
    "                              # But this is the same list (just a different name - values instead of normal values)\n",
    "\n",
    "def trim_outliers(values, threshold=2.5):  # This defines my function, I am calling \"trim_outliers\" (I am using a more descriptive title here)\n",
    "                                           # The values list is what I want to clean/trim (i.e., what I want to pass into the function). \n",
    "                                           # The \"threshold\" and value associated with it - is what I will allow (i.e., 2.5 standard deviations).\n",
    "                                           # I could change the threshold to 2 if I want to be more conservative or 3 if I want to be more stringent.\n",
    "                                           # I do not think I need to define the threshold here (i.e., I could type 2.5 into the upper and lower bounds).\n",
    "    \n",
    "    while True:               # I need this here so the code repeats until there are no outliers (i.e., infinite loop until \n",
    "                              # Everything below needs to be inside this while true loop\n",
    "    \n",
    "        mean_val = statistics.mean(values)      # I first need to calculate the mean of the original list of values\n",
    "        sd_val = statistics.stdev(values)       # I then need to calculate the standard deviation of the original data list (i.e., spread of the data).\n",
    "                                                # The next step would be for me to define my upper and lower limits (i.e., basis for deciding if a value is too far away from the mean)\n",
    "\n",
    "        lower_bound = mean_val - threshold * sd_val   # Any number below this would be considered an outlier\n",
    "        upper_bound = mean_val + threshold * sd_val   # Any number above this would be considered an outlier\n",
    "                                                      # These provide me with an acceptable range of values \n",
    "                                                          # Lower_bound cutoff = 0.7 – (2.5*0.2) \n",
    "                                                          # Upper_bound cutoof = 0.7 + (2.5*0.2)\n",
    "\n",
    "        filtered = []                  # Next, I want to create a new empty list that would hold the filtered values without the outliers\n",
    "    \n",
    "        for x in values:                            # This code goes through each number in the values list\n",
    "            if lower_bound <= x <= upper_bound:     # Keep a value ONLY if it’s inside the cutoff range I specified above\n",
    "                                                    # Anything below or equal to the lower_bound or above or equal to the upper_bound gets trimmed\n",
    "            \n",
    "                filtered.append(x)          # This appends the filtered values to the new list called \"filtered\".\n",
    "\n",
    "        if len(filtered) == len(values):    # If the list length of filtered and values are the same, no outliers were removed\n",
    "            break                               # Then break the loop, and we’re done\n",
    "    \n",
    "        else:\n",
    "            values = filtered               # I need an else statement here, but why?\n",
    "                                            # This says that, otherwise, update the list and keep checking again (i.e., check for more outliers).\n",
    "                                            # (values = filtered) For the next round of the loop, forget about the old list and use the filtered list that has the outliers removed.\n",
    "    \n",
    "    return values, mean_val, sd_val         # This returns the final trimmed data and statistics I asked for (i.e., the mean and standard deviation)"
   ]
  },
  {
   "cell_type": "markdown",
   "id": "b5e11123-50fa-43aa-af88-e4860aab9d0f",
   "metadata": {},
   "source": [
    "## Question 1c ##"
   ]
  },
  {
   "cell_type": "code",
   "execution_count": 127,
   "id": "067617a1-5f0f-4e5f-a27c-17bae336cb4f",
   "metadata": {},
   "outputs": [
    {
     "name": "stdout",
     "output_type": "stream",
     "text": [
      "Original list length: 100\n",
      "Filtered list length: 95\n",
      "Number of outliers: 5\n",
      "Filtered list: [1.1925887960808288, 0.8830989720532245, 0.8348543452279026, 0.6695589549085204, 1.0635110329825612, 0.4616640285899877, 0.7226662226675111, 0.7646242428877602, 0.6473518933178383, 0.7998104375909731, 0.47763651479245167, 0.9741606074066094, 0.4448612515859942, 0.8234026981647741, 0.682863933553808, 0.7873001229471819, 0.7109628257164569, 1.0571233937729168, 1.0157213962333493, 0.5183405816376099, 0.7742307785860627, 0.5406313719204693, 0.7844125060650236, 0.9995295145260623, 0.7861136589884627, 0.5713403855622922, 0.8161487172193568, 1.0255051327794138, 1.109572408410901, 0.8409613475122166, 0.7961137868870194, 1.00193065593587, 0.2784334131798516, 0.6222078058205861, 0.7527240476613313, 0.8136530678954673, 0.5996537763980626, 0.8455899795643604, 0.75510771315476, 0.4298838388766889, 0.45469312234225245, 0.7133417276263968, 0.8392280185644774, 0.547715257746122, 0.9235466820348516, 0.7101970970567005, 0.5705878808846675, 0.9886909887145696, 0.7043266306347418, 0.5069987231740558, 0.9133087879276629, 0.7428242115722921, 0.5026450938455418, 0.870242696714869, 0.7105801323906232, 0.5098894460475956, 0.8666070695887371, 0.9878289909848055, 0.6459257809803615, 0.6412914867693105, 0.5320616039385874, 0.39521310920036234, 0.8011707696452698, 0.8763056435735079, 0.9944771659161609, 0.5999483267781149, 0.3752778493828439, 0.7386711764865773, 0.46089451697605044, 0.8303255885306888, 0.4713976877726391, 0.5683625353847975, 0.601827412121224, 0.9630764191954051, 0.6731813238999929, 0.734069126146182, 0.6041523586085904, 0.7952929617853662, 0.7774831811965868, 0.9670917103326953, 0.5794908694124727, 0.764541083511967, 0.8553688217950552, 0.7686246427079695, 0.8805230763781332, 0.6945692890320038, 0.4687145903994544, 0.6913314777521518, 0.864286255776545, 0.8303054456621505, 0.4093763002215357, 0.6424998800505229, 0.5225230054132302, 0.5937216247465549, 1.012654076761497]\n",
      "Final mean: 0.7301592304332215\n",
      "Final SD: 0.19033485242526868\n"
     ]
    }
   ],
   "source": [
    "filtered, mean_val, sd_val = trim_outliers(NormalValues)    # Calls the function I created above\n",
    "                                                            # Will return: length of the original list, cleaned list, # of outliers, final mean, and SD\n",
    "\n",
    "print(\"Original list length:\", len(values))                # Prints the size of the original list (should be 100 if NormalValues has 100 numbers)\n",
    "print(\"Filtered list length:\", len(filtered))              # Prints the size of the cleaned list (will be smaller if outliers were removed)\n",
    "print(\"Number of outliers:\", len(values) - len(filtered))  # Prints how many outliers were trimmed (difference between original and cleaned sizes)\n",
    "print(\"Filtered list:\", filtered)                          # Prints the actual values left after outliers are removed\n",
    "print(\"Final mean:\", mean_val)                             # Prints the final mean of the cleaned list\n",
    "print(\"Final SD:\", sd_val)                                 # Prints the final standard deviation of the cleaned list"
   ]
  },
  {
   "cell_type": "markdown",
   "id": "8bc67765-e68e-48a2-92c0-7135b8b34ab1",
   "metadata": {},
   "source": [
    "## Question 2a ##"
   ]
  },
  {
   "cell_type": "code",
   "execution_count": 130,
   "id": "c5d56b54-6ac0-4aa0-a53d-6327dffb60b5",
   "metadata": {},
   "outputs": [],
   "source": [
    "Students = [\"Fred\", \"Jeff\", \"Mary\", \"Suzie\", \"Linda\", \"Bob\", \"Dave\", \"Karen\", \"Cathy\", \"Jessie\"]  # I created a list of hypothetical student names"
   ]
  },
  {
   "cell_type": "code",
   "execution_count": 131,
   "id": "b40b0d2d-919e-492f-abec-d0092cee8677",
   "metadata": {},
   "outputs": [],
   "source": [
    "Grades = [77, 81, 93, 79, 84, 91, 95, 76, 82, 99]       # I created a list of theoretical grades for the students listed above\n",
    "                                                        # No quotes because these are integers"
   ]
  },
  {
   "cell_type": "markdown",
   "id": "804ede7f-7b09-4a4c-b7fa-c82779154bcc",
   "metadata": {},
   "source": [
    "#### **Bonus for myself:** Instead of assuming the names were paired with the grades, I actually paired them with the zip function (i.e., see below) ####"
   ]
  },
  {
   "cell_type": "code",
   "execution_count": 132,
   "id": "d952ef2e-8a83-46fe-a45e-b8c754d04756",
   "metadata": {},
   "outputs": [
    {
     "name": "stdout",
     "output_type": "stream",
     "text": [
      "Fred has a grade of 77.\n",
      "Jeff has a grade of 81.\n",
      "Mary has a grade of 93.\n",
      "Suzie has a grade of 79.\n",
      "Linda has a grade of 84.\n",
      "Bob has a grade of 91.\n",
      "Dave has a grade of 95.\n",
      "Karen has a grade of 76.\n",
      "Cathy has a grade of 82.\n",
      "Jessie has a grade of 99.\n"
     ]
    }
   ],
   "source": [
    "for StudentName, StudentGrade in zip(Students, Grades):        # I did some research and the zip function seemed useful here\n",
    "                                                               # It's a function that takes two or more lists and zips them together into pairs \n",
    "                                                                   # https://www.w3schools.com/python/ref_func_zip.asp\n",
    "    print(f\"{StudentName} has a grade of {StudentGrade}.\")     # This prints the student's name and grade using an f-string \n",
    "                                                               # A f-string is a way of building strings that lets you insert variables/expressions inside a string.\n",
    "                                                               # f\" means that it’s a formatted string (f-string)."
   ]
  },
  {
   "cell_type": "markdown",
   "id": "74def1ac-9e78-4025-a7b1-0625a6dc1fa0",
   "metadata": {},
   "source": [
    "> ##### This was for me to learn how to pair things together (instead of assuming) and how to get it to print what I wanted #####"
   ]
  },
  {
   "cell_type": "markdown",
   "id": "690316fd-5795-491a-8ceb-fbe55229e2e6",
   "metadata": {},
   "source": [
    "## Question 2b ##"
   ]
  },
  {
   "cell_type": "code",
   "execution_count": 133,
   "id": "37d2b5ad-6386-4e09-822a-afbc1ba962c4",
   "metadata": {},
   "outputs": [
    {
     "name": "stdout",
     "output_type": "stream",
     "text": [
      "Fred has a B+.\n",
      "Jeff has a A-.\n",
      "Mary has a A+.\n",
      "Suzie has a B+.\n",
      "Linda has a A-.\n",
      "Bob has a A+.\n",
      "Dave has a A+.\n",
      "Karen has a B+.\n",
      "Cathy has a A-.\n",
      "Jessie has a A+.\n"
     ]
    }
   ],
   "source": [
    "# First, I need to define the lists like I did above (i.e., in question 2a) \n",
    "\n",
    "Students = [\"Fred\", \"Jeff\", \"Mary\", \"Suzie\", \"Linda\",      \n",
    "            \"Bob\", \"Dave\", \"Karen\", \"Cathy\", \"Jessie\"]\n",
    "\n",
    "Grades = [77, 81, 93, 79, 84, 91, 95, 76, 82, 99]\n",
    "\n",
    "# Now, I need to loop through each student and assign them their letter grade (i.e., use if/elif/else)  \n",
    "\n",
    "for StudentName, StudentGrade in zip(students, grades):   # The zip() function again pairs up the elements of two lists so that the first student matches the first grade,\n",
    "                                                          # Then, the second student matches the second grade, and so on until the lists are finished.\n",
    "                                                               # Makes sure that the order of the student names matches the order of the grades\n",
    "                                                               # You said to assume that they matched, but this ensures that they do. \n",
    "                                                          # Both lists include 10 things, so it will stop at 10.\n",
    "    \n",
    "    if StudentGrade >= 90:      # If the student grade is 90 or higher, assign the student an A+\n",
    "        letter = \"A+\"\n",
    "    elif StudentGrade >= 85:    # Else if the student grade is between 85 and 89, assign the student an A\n",
    "        letter = \"A\"\n",
    "    elif StudentGrade >= 80:    # Else if the student grade is between 80 and 84, assign the student an A-\n",
    "        letter = \"A-\"\n",
    "    elif StudentGrade >= 76:    # Else if the student grade is between 76 and 79, assign the student a B+\n",
    "        letter = \"B+\"\n",
    "    else:\n",
    "        letter = \"Below B+\"    # Anything below 76 would fall into the \"else\" case, but this will not occur because our grades are all 76–100.\n",
    "    \n",
    "# Lastly, I would want to print the students' names with their letter grades\n",
    "    \n",
    "    print(f\"{StudentName} has a {letter}.\")   # This prints a statement with the {student's name}, followed by \"has a\" and then their {letter grade}."
   ]
  },
  {
   "cell_type": "markdown",
   "id": "1c592c63-c01e-4de1-a624-0bc6fb7d5e86",
   "metadata": {},
   "source": [
    "## Question 3 ##"
   ]
  },
  {
   "cell_type": "code",
   "execution_count": 134,
   "id": "abd9ec4f-2af7-49a1-8812-dfe76ee6a5be",
   "metadata": {},
   "outputs": [],
   "source": [
    "# Again, I need to define student names and their numeric grades in lists\n",
    "\n",
    "Students = [\"Fred\", \"Jeff\", \"Mary\", \"Suzie\", \"Linda\", \n",
    "            \"Bob\", \"Dave\", \"Karen\", \"Cathy\", \"Jessie\"]\n",
    "\n",
    "Grades = [77, 81, 93, 79, 84, 91, 95, 76, 82, 99]\n",
    "\n",
    "#Next, I need to define a function that will allow me to enter a name, loop through the grading conventions, and output their numeric and letter grade\n",
    "\n",
    "def gradeLookup():                              # Here, I defined a function called \"Grade lookup\" (again, I used a more descriptive title/name)\n",
    "    name = input(\"Enter a student's name:\")     # First, ask the user to enter/input a student's name (i.e., this will allow you to enter a specific name).\n",
    "    \n",
    "    if name in students:                        # This then checks if the name is in the student list\n",
    "        index = Students.index(name)            # Find the index (i.e., the position) of that student in the list (e.g., Fred would be 0)\n",
    "        StudentGrade = Grades[index]            # Use that index/position to retrieve their numeric grade\n",
    "\n",
    "        if StudentGrade >= 90:                  # Using the conventions I used in the previous question, I can determine the letter grade using the if/elif/else\n",
    "                                                # Copy and pasted from the question above\n",
    "            letter = \"A+\"\n",
    "        elif StudentGrade >= 85:\n",
    "            letter = \"A\"\n",
    "        elif StudentGrade >= 80:\n",
    "            letter = \"A-\"\n",
    "        elif StudentGrade >= 76:\n",
    "            letter = \"B+\"\n",
    "        else:\n",
    "            letter = \"Below B+\"                # This inner else - Student exists in the list, but their grade is below B+\n",
    "        \n",
    "        print(f\"{name} has a numeric grade of {StudentGrade}, which is an {letter}.\")   \n",
    "            # Prints the {student's name}, followed by \"has a numeric grade of\", {insert grade}, followed by \"which is\", {insert letter grade}. \n",
    "  \n",
    "    else:\n",
    "        print(f\"{name} is not in the student list.\")        # If the name I enter is not in the list, it will let me know.\n",
    "                                                            # It will tell me that the person is not in the student list I created\n",
    "                                                            # This outer else - Student does not exist in the list, and therefore would not have a grade.\n",
    "                                                            # This took me a while to figure out. I knew I was nesting, but this final else apparently was not as intuitive for me"
   ]
  },
  {
   "cell_type": "code",
   "execution_count": 135,
   "id": "64f92558-eccb-4d73-86ba-37debca07c66",
   "metadata": {},
   "outputs": [
    {
     "name": "stdin",
     "output_type": "stream",
     "text": [
      "Enter a student's name: Mary\n"
     ]
    },
    {
     "name": "stdout",
     "output_type": "stream",
     "text": [
      "Mary has a numeric grade of 93, which is an A+.\n"
     ]
    }
   ],
   "source": [
    "gradeLookup()     # I had to call the function I had created above, and then enter a student name."
   ]
  },
  {
   "cell_type": "code",
   "execution_count": 136,
   "id": "42df2965-327f-46e9-a282-209126987ae9",
   "metadata": {},
   "outputs": [
    {
     "name": "stdin",
     "output_type": "stream",
     "text": [
      "Enter a student's name: Jeff\n"
     ]
    },
    {
     "name": "stdout",
     "output_type": "stream",
     "text": [
      "Jeff has a numeric grade of 81, which is an A-.\n"
     ]
    }
   ],
   "source": [
    "gradeLookup()"
   ]
  },
  {
   "cell_type": "code",
   "execution_count": 137,
   "id": "9f8c1ec1-902e-4c65-b65e-dd74b0f11d21",
   "metadata": {},
   "outputs": [
    {
     "name": "stdin",
     "output_type": "stream",
     "text": [
      "Enter a student's name: Makenna\n"
     ]
    },
    {
     "name": "stdout",
     "output_type": "stream",
     "text": [
      "Makenna is not in the student list.\n"
     ]
    }
   ],
   "source": [
    "gradeLookup()       # What if I typed in my own name that is not in the original list?\n",
    "                    # It should return \"Makenna is not in the student list\"\n",
    "                    # This ensures that the name you enter is actually a part of the list you created."
   ]
  },
  {
   "cell_type": "markdown",
   "id": "939a52fc-0ccf-43f2-9610-46d2210243d2",
   "metadata": {},
   "source": [
    "## Question 4 ##"
   ]
  },
  {
   "cell_type": "code",
   "execution_count": 145,
   "id": "b167a7f3-406b-4c8b-9144-c311312ca629",
   "metadata": {},
   "outputs": [],
   "source": [
    "class PersonalityProfile:\n",
    "    def __init__(self, participant_number, openness, conscientiousness, agreeableness, extraversion, neuroticism):\n",
    "                 # The init_method automatically runs whenever I create a new PersonalityProfile object\n",
    "                 # This stores/initializes the participant's ID number, and their 5 personality traits.\n",
    "                 # This assumes each trait is on a scale from 1-5.\n",
    "                 # https://www.geeksforgeeks.org/python/__init__-in-python/ (this helped me set things up a bit beyond your class example). \n",
    "                     # self = variable that represents the instance of the object itself (i.e., refers to the current object (always the first parameter)).\n",
    "                     # _init_ with parameters = can pass multiple parameters to set up different attributes (here ID, and the 5 traits). \n",
    "        \n",
    "        # The following are object attributes that store these values.\n",
    "        # This means that every participant object will have a series of values saved inside. \n",
    "        # Example: self.extraversion would just be a number stored in the object.\n",
    "\n",
    "        self.participant_number = participant_number   # Unique ID for the participant     \n",
    "        self.openness = openness                       # Score for Openness (1–5)\n",
    "        self.conscientiousness = conscientiousness     # Score for Conscientiousness (1–5)\n",
    "        self.agreeableness = agreeableness             # Score for Agreeableness (1–5)\n",
    "        self.extraversion = extraversion               # Score for Extraversion (1–5)\n",
    "        self.neuroticism = neuroticism                 # Score for Neuroticism (1–5)\n",
    "\n",
    "    # After defining my class, I should now also define a series of functions inside it (i.e., these would now be methods I believe).\n",
    "    # I used methods with names like \"is_introvert()\" in order to describe what the data means.\n",
    "\n",
    "    def is_introvert(self):            # This returns True if Extraversion < 3 (i.e., meaning that the participant is more introverted)\n",
    "                                       # Otherwise, it would return false (i.e., they are more extroverted). \n",
    "        return self.extraversion < 3\n",
    "\n",
    "    def is_open(self):                 # This returns true if the participant’s Openness score is 3 or above.\n",
    "                                       # Otherwise it would return false (i.e., less open).\n",
    "        return self.openness >= 3\n",
    "\n",
    "    def is_conscientious(self):        # This returns True if Conscientiousness is 3 or above.\n",
    "                                       # Otherwise it would return false (i.e., more unconscientious). \n",
    "        return self.conscientiousness >= 3\n",
    "\n",
    "    def is_agreeable(self):            # This returns True if Agreeableness is 3 or above.\n",
    "                                       # Otherwise it would return false (i.e., less agreeable). \n",
    "        return self.agreeableness >= 3\n",
    "\n",
    "    def is_neurotic(self):             # Returns True if Neuroticism is 3 or above.\n",
    "                                       # Otherwise it would return false \n",
    "        return self.neuroticism >= 3\n",
    "\n",
    "    def __str__(self):        # This nicely formats the participant’s profile when printed\n",
    "                              # The _str_ method would define how the object is displayed when I used print ()\n",
    "                              # This would make the object output look human-readable and nice\n",
    "                              # https://www.pythontutorial.net/python-oop/python-__str__/ \n",
    "      \n",
    "        return (f\"Participant {self.participant_number}:\\n\"           # f is at the start of each line (i.e., each line is a separate string)\n",
    "                f\"Openness = {self.openness}, \"                       # Without an f at the start of each line, everything inside of ( ) won't be evaluated (I made this mistake at first).\n",
    "                f\"Conscientiousness = {self.conscientiousness}, \"     # Would create one long string\n",
    "                f\"Agreeableness = {self.agreeableness}, \"\n",
    "                f\"Extraversion = {self.extraversion}, \"\n",
    "                f\"Neuroticism = {self.neuroticism}\")"
   ]
  },
  {
   "cell_type": "code",
   "execution_count": 152,
   "id": "f1c77a1b-d282-490b-ac7f-7fe3ce604f68",
   "metadata": {},
   "outputs": [
    {
     "name": "stdout",
     "output_type": "stream",
     "text": [
      "Participant 1:\n",
      "Openness = 4, Conscientiousness = 5, Agreeableness = 2, Extraversion = 2, Neuroticism = 1\n"
     ]
    }
   ],
   "source": [
    "p1 = PersonalityProfile(1, 4, 5, 2, 2, 1)  # What if I create a participant\n",
    "print(p1)                                  # This will print their ID, and each of the five traits with their associated scores."
   ]
  },
  {
   "cell_type": "code",
   "execution_count": 153,
   "id": "c4837c5b-6f88-4fef-a4a4-0e1ff85545f4",
   "metadata": {},
   "outputs": [
    {
     "name": "stdout",
     "output_type": "stream",
     "text": [
      "Introvert? True\n"
     ]
    }
   ],
   "source": [
    "print(\"Introvert?\", p1.is_introvert())        # I am testing the is_introvert method we were asked to do\n",
    "                                              # This should return as TRUE because 2 is less than 3."
   ]
  },
  {
   "cell_type": "code",
   "execution_count": 154,
   "id": "ed75b28d-b361-4728-a021-30a70f6901f0",
   "metadata": {},
   "outputs": [
    {
     "name": "stdout",
     "output_type": "stream",
     "text": [
      "Open? True\n"
     ]
    }
   ],
   "source": [
    "print(\"Open?\", p1.is_open())                 # Testing the is_open method I created above\n",
    "                                             # This again should return TRUE because 4 is greater than 3"
   ]
  },
  {
   "cell_type": "code",
   "execution_count": 155,
   "id": "6347d91b-0de4-4218-982f-d16adac71d35",
   "metadata": {},
   "outputs": [
    {
     "name": "stdout",
     "output_type": "stream",
     "text": [
      "Conscientious? True\n"
     ]
    }
   ],
   "source": [
    "print(\"Conscientious?\", p1.is_conscientious()) #This shoulld return TRUE because 5 is greater than 3"
   ]
  },
  {
   "cell_type": "code",
   "execution_count": 156,
   "id": "e58ff5d6-2383-4c8b-9c9d-a86893d35a17",
   "metadata": {},
   "outputs": [
    {
     "name": "stdout",
     "output_type": "stream",
     "text": [
      "Agreeable? False\n"
     ]
    }
   ],
   "source": [
    "print(\"Agreeable?\", p1.is_agreeable())        # This should return FALSE because 2 is less than 3"
   ]
  },
  {
   "cell_type": "code",
   "execution_count": 157,
   "id": "da53009b-e78c-4e2c-bda0-de22e5add3fa",
   "metadata": {},
   "outputs": [
    {
     "name": "stdout",
     "output_type": "stream",
     "text": [
      "neurotic? False\n"
     ]
    }
   ],
   "source": [
    "print(\"neurotic?\", p1.is_neurotic())         # This should also return FALSE because 1 is less than 3"
   ]
  }
 ],
 "metadata": {
  "kernelspec": {
   "display_name": "Python 3 (ipykernel)",
   "language": "python",
   "name": "python3"
  },
  "language_info": {
   "codemirror_mode": {
    "name": "ipython",
    "version": 3
   },
   "file_extension": ".py",
   "mimetype": "text/x-python",
   "name": "python",
   "nbconvert_exporter": "python",
   "pygments_lexer": "ipython3",
   "version": "3.13.5"
  }
 },
 "nbformat": 4,
 "nbformat_minor": 5
}
